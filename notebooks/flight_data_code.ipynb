{
 "cells": [
  {
   "cell_type": "markdown",
   "id": "9407db98",
   "metadata": {},
   "source": [
    "#TODO:\n",
    "\n",
    "- Auto EDA\n",
    "- Intentional EDA\n",
    "- Simple feature engineering\n",
    "- Outliers\n",
    "- Cyclical features\n",
    "- sns.distplot prediction vs actual\n"
   ]
  },
  {
   "cell_type": "code",
   "execution_count": 1,
   "id": "fc9f17d8",
   "metadata": {
    "scrolled": true
   },
   "outputs": [
    {
     "name": "stdout",
     "output_type": "stream",
     "text": [
      "Requirement already satisfied: pandas_profiling in /Users/adelhassen/anaconda3/lib/python3.11/site-packages (3.2.0)\n",
      "Requirement already satisfied: joblib~=1.1.0 in /Users/adelhassen/anaconda3/lib/python3.11/site-packages (from pandas_profiling) (1.1.1)\n",
      "Requirement already satisfied: scipy>=1.4.1 in /Users/adelhassen/anaconda3/lib/python3.11/site-packages (from pandas_profiling) (1.11.1)\n",
      "Requirement already satisfied: pandas!=1.0.0,!=1.0.1,!=1.0.2,!=1.1.0,>=0.25.3 in /Users/adelhassen/anaconda3/lib/python3.11/site-packages (from pandas_profiling) (2.0.3)\n",
      "Requirement already satisfied: matplotlib>=3.2.0 in /Users/adelhassen/anaconda3/lib/python3.11/site-packages (from pandas_profiling) (3.9.1)\n",
      "Requirement already satisfied: pydantic>=1.8.1 in /Users/adelhassen/anaconda3/lib/python3.11/site-packages (from pandas_profiling) (2.8.2)\n",
      "Requirement already satisfied: PyYAML>=5.0.0 in /Users/adelhassen/anaconda3/lib/python3.11/site-packages (from pandas_profiling) (6.0)\n",
      "Requirement already satisfied: jinja2>=2.11.1 in /Users/adelhassen/anaconda3/lib/python3.11/site-packages (from pandas_profiling) (3.1.2)\n",
      "Requirement already satisfied: markupsafe~=2.1.1 in /Users/adelhassen/anaconda3/lib/python3.11/site-packages (from pandas_profiling) (2.1.1)\n",
      "Requirement already satisfied: visions[type_image_path]==0.7.4 in /Users/adelhassen/anaconda3/lib/python3.11/site-packages (from pandas_profiling) (0.7.4)\n",
      "Requirement already satisfied: numpy>=1.16.0 in /Users/adelhassen/anaconda3/lib/python3.11/site-packages (from pandas_profiling) (1.24.3)\n",
      "Requirement already satisfied: htmlmin>=0.1.12 in /Users/adelhassen/anaconda3/lib/python3.11/site-packages (from pandas_profiling) (0.1.12)\n",
      "Requirement already satisfied: missingno>=0.4.2 in /Users/adelhassen/anaconda3/lib/python3.11/site-packages (from pandas_profiling) (0.5.2)\n",
      "Requirement already satisfied: phik>=0.11.1 in /Users/adelhassen/anaconda3/lib/python3.11/site-packages (from pandas_profiling) (0.12.4)\n",
      "Requirement already satisfied: tangled-up-in-unicode==0.2.0 in /Users/adelhassen/anaconda3/lib/python3.11/site-packages (from pandas_profiling) (0.2.0)\n",
      "Requirement already satisfied: requests>=2.24.0 in /Users/adelhassen/anaconda3/lib/python3.11/site-packages (from pandas_profiling) (2.32.3)\n",
      "Requirement already satisfied: tqdm>=4.48.2 in /Users/adelhassen/anaconda3/lib/python3.11/site-packages (from pandas_profiling) (4.65.0)\n",
      "Requirement already satisfied: seaborn>=0.10.1 in /Users/adelhassen/anaconda3/lib/python3.11/site-packages (from pandas_profiling) (0.13.2)\n",
      "Requirement already satisfied: multimethod>=1.4 in /Users/adelhassen/anaconda3/lib/python3.11/site-packages (from pandas_profiling) (1.12)\n",
      "Requirement already satisfied: attrs>=19.3.0 in /Users/adelhassen/anaconda3/lib/python3.11/site-packages (from visions[type_image_path]==0.7.4->pandas_profiling) (22.1.0)\n",
      "Requirement already satisfied: networkx>=2.4 in /Users/adelhassen/anaconda3/lib/python3.11/site-packages (from visions[type_image_path]==0.7.4->pandas_profiling) (3.1)\n",
      "Requirement already satisfied: imagehash in /Users/adelhassen/anaconda3/lib/python3.11/site-packages (from visions[type_image_path]==0.7.4->pandas_profiling) (4.3.1)\n",
      "Requirement already satisfied: Pillow in /Users/adelhassen/anaconda3/lib/python3.11/site-packages (from visions[type_image_path]==0.7.4->pandas_profiling) (9.4.0)\n",
      "Requirement already satisfied: contourpy>=1.0.1 in /Users/adelhassen/anaconda3/lib/python3.11/site-packages (from matplotlib>=3.2.0->pandas_profiling) (1.2.1)\n",
      "Requirement already satisfied: cycler>=0.10 in /Users/adelhassen/anaconda3/lib/python3.11/site-packages (from matplotlib>=3.2.0->pandas_profiling) (0.11.0)\n",
      "Requirement already satisfied: fonttools>=4.22.0 in /Users/adelhassen/anaconda3/lib/python3.11/site-packages (from matplotlib>=3.2.0->pandas_profiling) (4.25.0)\n",
      "Requirement already satisfied: kiwisolver>=1.3.1 in /Users/adelhassen/anaconda3/lib/python3.11/site-packages (from matplotlib>=3.2.0->pandas_profiling) (1.4.4)\n",
      "Requirement already satisfied: packaging>=20.0 in /Users/adelhassen/anaconda3/lib/python3.11/site-packages (from matplotlib>=3.2.0->pandas_profiling) (23.1)\n",
      "Requirement already satisfied: pyparsing>=2.3.1 in /Users/adelhassen/anaconda3/lib/python3.11/site-packages (from matplotlib>=3.2.0->pandas_profiling) (3.0.9)\n",
      "Requirement already satisfied: python-dateutil>=2.7 in /Users/adelhassen/anaconda3/lib/python3.11/site-packages (from matplotlib>=3.2.0->pandas_profiling) (2.8.2)\n",
      "Requirement already satisfied: pytz>=2020.1 in /Users/adelhassen/anaconda3/lib/python3.11/site-packages (from pandas!=1.0.0,!=1.0.1,!=1.0.2,!=1.1.0,>=0.25.3->pandas_profiling) (2023.3.post1)\n",
      "Requirement already satisfied: tzdata>=2022.1 in /Users/adelhassen/anaconda3/lib/python3.11/site-packages (from pandas!=1.0.0,!=1.0.1,!=1.0.2,!=1.1.0,>=0.25.3->pandas_profiling) (2023.3)\n",
      "Requirement already satisfied: annotated-types>=0.4.0 in /Users/adelhassen/anaconda3/lib/python3.11/site-packages (from pydantic>=1.8.1->pandas_profiling) (0.7.0)\n",
      "Requirement already satisfied: pydantic-core==2.20.1 in /Users/adelhassen/anaconda3/lib/python3.11/site-packages (from pydantic>=1.8.1->pandas_profiling) (2.20.1)\n",
      "Requirement already satisfied: typing-extensions>=4.6.1 in /Users/adelhassen/anaconda3/lib/python3.11/site-packages (from pydantic>=1.8.1->pandas_profiling) (4.12.2)\n",
      "Requirement already satisfied: charset-normalizer<4,>=2 in /Users/adelhassen/anaconda3/lib/python3.11/site-packages (from requests>=2.24.0->pandas_profiling) (2.0.4)\n",
      "Requirement already satisfied: idna<4,>=2.5 in /Users/adelhassen/anaconda3/lib/python3.11/site-packages (from requests>=2.24.0->pandas_profiling) (3.4)\n",
      "Requirement already satisfied: urllib3<3,>=1.21.1 in /Users/adelhassen/anaconda3/lib/python3.11/site-packages (from requests>=2.24.0->pandas_profiling) (2.2.2)\n",
      "Requirement already satisfied: certifi>=2017.4.17 in /Users/adelhassen/anaconda3/lib/python3.11/site-packages (from requests>=2.24.0->pandas_profiling) (2024.7.4)\n",
      "Requirement already satisfied: six>=1.5 in /Users/adelhassen/anaconda3/lib/python3.11/site-packages (from python-dateutil>=2.7->matplotlib>=3.2.0->pandas_profiling) (1.16.0)\n",
      "Requirement already satisfied: PyWavelets in /Users/adelhassen/anaconda3/lib/python3.11/site-packages (from imagehash->visions[type_image_path]==0.7.4->pandas_profiling) (1.4.1)\n",
      "Requirement already satisfied: ydata-profiling in /Users/adelhassen/anaconda3/lib/python3.11/site-packages (4.9.0)\n",
      "Requirement already satisfied: scipy<1.14,>=1.4.1 in /Users/adelhassen/anaconda3/lib/python3.11/site-packages (from ydata-profiling) (1.11.1)\n",
      "Requirement already satisfied: pandas!=1.4.0,<3,>1.1 in /Users/adelhassen/anaconda3/lib/python3.11/site-packages (from ydata-profiling) (2.0.3)\n",
      "Requirement already satisfied: matplotlib<3.10,>=3.5 in /Users/adelhassen/anaconda3/lib/python3.11/site-packages (from ydata-profiling) (3.9.1)\n",
      "Requirement already satisfied: pydantic>=2 in /Users/adelhassen/anaconda3/lib/python3.11/site-packages (from ydata-profiling) (2.8.2)\n",
      "Requirement already satisfied: PyYAML<6.1,>=5.0.0 in /Users/adelhassen/anaconda3/lib/python3.11/site-packages (from ydata-profiling) (6.0)\n",
      "Requirement already satisfied: jinja2<3.2,>=2.11.1 in /Users/adelhassen/anaconda3/lib/python3.11/site-packages (from ydata-profiling) (3.1.2)\n",
      "Collecting visions[type_image_path]<0.7.7,>=0.7.5 (from ydata-profiling)\n",
      "  Obtaining dependency information for visions[type_image_path]<0.7.7,>=0.7.5 from https://files.pythonhosted.org/packages/7c/bf/612b24e711ae25dea9af19b9304634b8949faa0b035fad47e8bcadf62f59/visions-0.7.6-py3-none-any.whl.metadata\n",
      "  Using cached visions-0.7.6-py3-none-any.whl.metadata (11 kB)\n",
      "Requirement already satisfied: numpy<2,>=1.16.0 in /Users/adelhassen/anaconda3/lib/python3.11/site-packages (from ydata-profiling) (1.24.3)\n",
      "Requirement already satisfied: htmlmin==0.1.12 in /Users/adelhassen/anaconda3/lib/python3.11/site-packages (from ydata-profiling) (0.1.12)\n",
      "Requirement already satisfied: phik<0.13,>=0.11.1 in /Users/adelhassen/anaconda3/lib/python3.11/site-packages (from ydata-profiling) (0.12.4)\n",
      "Requirement already satisfied: requests<3,>=2.24.0 in /Users/adelhassen/anaconda3/lib/python3.11/site-packages (from ydata-profiling) (2.32.3)\n",
      "Requirement already satisfied: tqdm<5,>=4.48.2 in /Users/adelhassen/anaconda3/lib/python3.11/site-packages (from ydata-profiling) (4.65.0)\n",
      "Requirement already satisfied: seaborn<0.14,>=0.10.1 in /Users/adelhassen/anaconda3/lib/python3.11/site-packages (from ydata-profiling) (0.13.2)\n",
      "Requirement already satisfied: multimethod<2,>=1.4 in /Users/adelhassen/anaconda3/lib/python3.11/site-packages (from ydata-profiling) (1.12)\n",
      "Requirement already satisfied: statsmodels<1,>=0.13.2 in /Users/adelhassen/anaconda3/lib/python3.11/site-packages (from ydata-profiling) (0.14.0)\n",
      "Requirement already satisfied: typeguard<5,>=3 in /Users/adelhassen/anaconda3/lib/python3.11/site-packages (from ydata-profiling) (4.3.0)\n",
      "Requirement already satisfied: imagehash==4.3.1 in /Users/adelhassen/anaconda3/lib/python3.11/site-packages (from ydata-profiling) (4.3.1)\n",
      "Requirement already satisfied: wordcloud>=1.9.1 in /Users/adelhassen/anaconda3/lib/python3.11/site-packages (from ydata-profiling) (1.9.3)\n",
      "Requirement already satisfied: dacite>=1.8 in /Users/adelhassen/anaconda3/lib/python3.11/site-packages (from ydata-profiling) (1.8.1)\n",
      "Requirement already satisfied: numba<1,>=0.56.0 in /Users/adelhassen/anaconda3/lib/python3.11/site-packages (from ydata-profiling) (0.57.1)\n",
      "Requirement already satisfied: PyWavelets in /Users/adelhassen/anaconda3/lib/python3.11/site-packages (from imagehash==4.3.1->ydata-profiling) (1.4.1)\n",
      "Requirement already satisfied: pillow in /Users/adelhassen/anaconda3/lib/python3.11/site-packages (from imagehash==4.3.1->ydata-profiling) (9.4.0)\n",
      "Requirement already satisfied: MarkupSafe>=2.0 in /Users/adelhassen/anaconda3/lib/python3.11/site-packages (from jinja2<3.2,>=2.11.1->ydata-profiling) (2.1.1)\n",
      "Requirement already satisfied: contourpy>=1.0.1 in /Users/adelhassen/anaconda3/lib/python3.11/site-packages (from matplotlib<3.10,>=3.5->ydata-profiling) (1.2.1)\n",
      "Requirement already satisfied: cycler>=0.10 in /Users/adelhassen/anaconda3/lib/python3.11/site-packages (from matplotlib<3.10,>=3.5->ydata-profiling) (0.11.0)\n",
      "Requirement already satisfied: fonttools>=4.22.0 in /Users/adelhassen/anaconda3/lib/python3.11/site-packages (from matplotlib<3.10,>=3.5->ydata-profiling) (4.25.0)\n",
      "Requirement already satisfied: kiwisolver>=1.3.1 in /Users/adelhassen/anaconda3/lib/python3.11/site-packages (from matplotlib<3.10,>=3.5->ydata-profiling) (1.4.4)\n",
      "Requirement already satisfied: packaging>=20.0 in /Users/adelhassen/anaconda3/lib/python3.11/site-packages (from matplotlib<3.10,>=3.5->ydata-profiling) (23.1)\n",
      "Requirement already satisfied: pyparsing>=2.3.1 in /Users/adelhassen/anaconda3/lib/python3.11/site-packages (from matplotlib<3.10,>=3.5->ydata-profiling) (3.0.9)\n",
      "Requirement already satisfied: python-dateutil>=2.7 in /Users/adelhassen/anaconda3/lib/python3.11/site-packages (from matplotlib<3.10,>=3.5->ydata-profiling) (2.8.2)\n"
     ]
    },
    {
     "name": "stdout",
     "output_type": "stream",
     "text": [
      "Requirement already satisfied: llvmlite<0.41,>=0.40.0dev0 in /Users/adelhassen/anaconda3/lib/python3.11/site-packages (from numba<1,>=0.56.0->ydata-profiling) (0.40.0)\n",
      "Requirement already satisfied: pytz>=2020.1 in /Users/adelhassen/anaconda3/lib/python3.11/site-packages (from pandas!=1.4.0,<3,>1.1->ydata-profiling) (2023.3.post1)\n",
      "Requirement already satisfied: tzdata>=2022.1 in /Users/adelhassen/anaconda3/lib/python3.11/site-packages (from pandas!=1.4.0,<3,>1.1->ydata-profiling) (2023.3)\n",
      "Requirement already satisfied: joblib>=0.14.1 in /Users/adelhassen/anaconda3/lib/python3.11/site-packages (from phik<0.13,>=0.11.1->ydata-profiling) (1.1.1)\n",
      "Requirement already satisfied: annotated-types>=0.4.0 in /Users/adelhassen/anaconda3/lib/python3.11/site-packages (from pydantic>=2->ydata-profiling) (0.7.0)\n",
      "Requirement already satisfied: pydantic-core==2.20.1 in /Users/adelhassen/anaconda3/lib/python3.11/site-packages (from pydantic>=2->ydata-profiling) (2.20.1)\n",
      "Requirement already satisfied: typing-extensions>=4.6.1 in /Users/adelhassen/anaconda3/lib/python3.11/site-packages (from pydantic>=2->ydata-profiling) (4.12.2)\n",
      "Requirement already satisfied: charset-normalizer<4,>=2 in /Users/adelhassen/anaconda3/lib/python3.11/site-packages (from requests<3,>=2.24.0->ydata-profiling) (2.0.4)\n",
      "Requirement already satisfied: idna<4,>=2.5 in /Users/adelhassen/anaconda3/lib/python3.11/site-packages (from requests<3,>=2.24.0->ydata-profiling) (3.4)\n",
      "Requirement already satisfied: urllib3<3,>=1.21.1 in /Users/adelhassen/anaconda3/lib/python3.11/site-packages (from requests<3,>=2.24.0->ydata-profiling) (2.2.2)\n",
      "Requirement already satisfied: certifi>=2017.4.17 in /Users/adelhassen/anaconda3/lib/python3.11/site-packages (from requests<3,>=2.24.0->ydata-profiling) (2024.7.4)\n",
      "Requirement already satisfied: patsy>=0.5.2 in /Users/adelhassen/anaconda3/lib/python3.11/site-packages (from statsmodels<1,>=0.13.2->ydata-profiling) (0.5.3)\n",
      "Requirement already satisfied: attrs>=19.3.0 in /Users/adelhassen/anaconda3/lib/python3.11/site-packages (from visions[type_image_path]<0.7.7,>=0.7.5->ydata-profiling) (22.1.0)\n",
      "Requirement already satisfied: networkx>=2.4 in /Users/adelhassen/anaconda3/lib/python3.11/site-packages (from visions[type_image_path]<0.7.7,>=0.7.5->ydata-profiling) (3.1)\n",
      "Requirement already satisfied: six in /Users/adelhassen/anaconda3/lib/python3.11/site-packages (from patsy>=0.5.2->statsmodels<1,>=0.13.2->ydata-profiling) (1.16.0)\n",
      "Using cached visions-0.7.6-py3-none-any.whl (104 kB)\n",
      "Installing collected packages: visions\n",
      "  Attempting uninstall: visions\n",
      "    Found existing installation: visions 0.7.4\n",
      "    Uninstalling visions-0.7.4:\n",
      "      Successfully uninstalled visions-0.7.4\n",
      "\u001b[31mERROR: pip's dependency resolver does not currently take into account all the packages that are installed. This behaviour is the source of the following dependency conflicts.\n",
      "pandas-profiling 3.2.0 requires visions[type_image_path]==0.7.4, but you have visions 0.7.6 which is incompatible.\u001b[0m\u001b[31m\n",
      "\u001b[0mSuccessfully installed visions-0.7.6\n",
      "Requirement already satisfied: sweetviz in /Users/adelhassen/anaconda3/lib/python3.11/site-packages (2.3.1)\n",
      "Requirement already satisfied: pandas!=1.0.0,!=1.0.1,!=1.0.2,>=0.25.3 in /Users/adelhassen/anaconda3/lib/python3.11/site-packages (from sweetviz) (2.0.3)\n",
      "Requirement already satisfied: numpy>=1.16.0 in /Users/adelhassen/anaconda3/lib/python3.11/site-packages (from sweetviz) (1.24.3)\n",
      "Requirement already satisfied: matplotlib>=3.1.3 in /Users/adelhassen/anaconda3/lib/python3.11/site-packages (from sweetviz) (3.9.1)\n",
      "Requirement already satisfied: tqdm>=4.43.0 in /Users/adelhassen/anaconda3/lib/python3.11/site-packages (from sweetviz) (4.65.0)\n",
      "Requirement already satisfied: scipy>=1.3.2 in /Users/adelhassen/anaconda3/lib/python3.11/site-packages (from sweetviz) (1.11.1)\n",
      "Requirement already satisfied: jinja2>=2.11.1 in /Users/adelhassen/anaconda3/lib/python3.11/site-packages (from sweetviz) (3.1.2)\n",
      "Requirement already satisfied: importlib-resources>=1.2.0 in /Users/adelhassen/anaconda3/lib/python3.11/site-packages (from sweetviz) (6.4.0)\n",
      "Requirement already satisfied: MarkupSafe>=2.0 in /Users/adelhassen/anaconda3/lib/python3.11/site-packages (from jinja2>=2.11.1->sweetviz) (2.1.1)\n",
      "Requirement already satisfied: contourpy>=1.0.1 in /Users/adelhassen/anaconda3/lib/python3.11/site-packages (from matplotlib>=3.1.3->sweetviz) (1.2.1)\n",
      "Requirement already satisfied: cycler>=0.10 in /Users/adelhassen/anaconda3/lib/python3.11/site-packages (from matplotlib>=3.1.3->sweetviz) (0.11.0)\n",
      "Requirement already satisfied: fonttools>=4.22.0 in /Users/adelhassen/anaconda3/lib/python3.11/site-packages (from matplotlib>=3.1.3->sweetviz) (4.25.0)\n",
      "Requirement already satisfied: kiwisolver>=1.3.1 in /Users/adelhassen/anaconda3/lib/python3.11/site-packages (from matplotlib>=3.1.3->sweetviz) (1.4.4)\n",
      "Requirement already satisfied: packaging>=20.0 in /Users/adelhassen/anaconda3/lib/python3.11/site-packages (from matplotlib>=3.1.3->sweetviz) (23.1)\n",
      "Requirement already satisfied: pillow>=8 in /Users/adelhassen/anaconda3/lib/python3.11/site-packages (from matplotlib>=3.1.3->sweetviz) (9.4.0)\n",
      "Requirement already satisfied: pyparsing>=2.3.1 in /Users/adelhassen/anaconda3/lib/python3.11/site-packages (from matplotlib>=3.1.3->sweetviz) (3.0.9)\n",
      "Requirement already satisfied: python-dateutil>=2.7 in /Users/adelhassen/anaconda3/lib/python3.11/site-packages (from matplotlib>=3.1.3->sweetviz) (2.8.2)\n",
      "Requirement already satisfied: pytz>=2020.1 in /Users/adelhassen/anaconda3/lib/python3.11/site-packages (from pandas!=1.0.0,!=1.0.1,!=1.0.2,>=0.25.3->sweetviz) (2023.3.post1)\n",
      "Requirement already satisfied: tzdata>=2022.1 in /Users/adelhassen/anaconda3/lib/python3.11/site-packages (from pandas!=1.0.0,!=1.0.1,!=1.0.2,>=0.25.3->sweetviz) (2023.3)\n",
      "Requirement already satisfied: six>=1.5 in /Users/adelhassen/anaconda3/lib/python3.11/site-packages (from python-dateutil>=2.7->matplotlib>=3.1.3->sweetviz) (1.16.0)\n",
      "Requirement already satisfied: autoviz in /Users/adelhassen/anaconda3/lib/python3.11/site-packages (0.1.905)\n",
      "Requirement already satisfied: xlrd in /Users/adelhassen/anaconda3/lib/python3.11/site-packages (from autoviz) (2.0.1)\n",
      "Requirement already satisfied: wordcloud in /Users/adelhassen/anaconda3/lib/python3.11/site-packages (from autoviz) (1.9.3)\n",
      "Requirement already satisfied: emoji in /Users/adelhassen/anaconda3/lib/python3.11/site-packages (from autoviz) (2.12.1)\n",
      "Requirement already satisfied: pyamg in /Users/adelhassen/anaconda3/lib/python3.11/site-packages (from autoviz) (5.2.1)\n",
      "Requirement already satisfied: scikit-learn in /Users/adelhassen/anaconda3/lib/python3.11/site-packages (from autoviz) (1.3.0)\n",
      "Requirement already satisfied: statsmodels in /Users/adelhassen/anaconda3/lib/python3.11/site-packages (from autoviz) (0.14.0)\n",
      "Requirement already satisfied: nltk in /Users/adelhassen/anaconda3/lib/python3.11/site-packages (from autoviz) (3.8.1)\n",
      "Requirement already satisfied: textblob in /Users/adelhassen/anaconda3/lib/python3.11/site-packages (from autoviz) (0.18.0.post0)\n",
      "Requirement already satisfied: xgboost<1.7,>=0.82 in /Users/adelhassen/anaconda3/lib/python3.11/site-packages (from autoviz) (1.6.2)\n",
      "Requirement already satisfied: fsspec>=0.8.3 in /Users/adelhassen/anaconda3/lib/python3.11/site-packages (from autoviz) (2024.6.1)\n",
      "Requirement already satisfied: typing-extensions>=4.1.1 in /Users/adelhassen/anaconda3/lib/python3.11/site-packages (from autoviz) (4.12.2)\n",
      "Requirement already satisfied: pandas-dq>=1.29 in /Users/adelhassen/anaconda3/lib/python3.11/site-packages (from autoviz) (1.29)\n",
      "Requirement already satisfied: numpy>=1.24.0 in /Users/adelhassen/anaconda3/lib/python3.11/site-packages (from autoviz) (1.24.3)\n",
      "Requirement already satisfied: hvplot>=0.9.2 in /Users/adelhassen/anaconda3/lib/python3.11/site-packages (from autoviz) (0.10.0)\n",
      "Requirement already satisfied: holoviews>=1.16.0 in /Users/adelhassen/anaconda3/lib/python3.11/site-packages (from autoviz) (1.17.1)\n",
      "Requirement already satisfied: panel>=1.4.0 in /Users/adelhassen/anaconda3/lib/python3.11/site-packages (from autoviz) (1.4.4)\n",
      "Requirement already satisfied: pandas>=2.0 in /Users/adelhassen/anaconda3/lib/python3.11/site-packages (from autoviz) (2.0.3)\n",
      "Requirement already satisfied: matplotlib>3.7.4 in /Users/adelhassen/anaconda3/lib/python3.11/site-packages (from autoviz) (3.9.1)\n",
      "Requirement already satisfied: seaborn>0.12.2 in /Users/adelhassen/anaconda3/lib/python3.11/site-packages (from autoviz) (0.13.2)\n"
     ]
    },
    {
     "name": "stdout",
     "output_type": "stream",
     "text": [
      "Requirement already satisfied: param<3.0,>=1.12.0 in /Users/adelhassen/anaconda3/lib/python3.11/site-packages (from holoviews>=1.16.0->autoviz) (2.1.1)\n",
      "Requirement already satisfied: pyviz-comms>=0.7.4 in /Users/adelhassen/anaconda3/lib/python3.11/site-packages (from holoviews>=1.16.0->autoviz) (2.3.0)\n",
      "Requirement already satisfied: colorcet in /Users/adelhassen/anaconda3/lib/python3.11/site-packages (from holoviews>=1.16.0->autoviz) (3.0.1)\n",
      "Requirement already satisfied: packaging in /Users/adelhassen/anaconda3/lib/python3.11/site-packages (from holoviews>=1.16.0->autoviz) (23.1)\n",
      "Requirement already satisfied: bokeh>=1.0.0 in /Users/adelhassen/anaconda3/lib/python3.11/site-packages (from hvplot>=0.9.2->autoviz) (3.4.2)\n",
      "Requirement already satisfied: contourpy>=1.0.1 in /Users/adelhassen/anaconda3/lib/python3.11/site-packages (from matplotlib>3.7.4->autoviz) (1.2.1)\n",
      "Requirement already satisfied: cycler>=0.10 in /Users/adelhassen/anaconda3/lib/python3.11/site-packages (from matplotlib>3.7.4->autoviz) (0.11.0)\n",
      "Requirement already satisfied: fonttools>=4.22.0 in /Users/adelhassen/anaconda3/lib/python3.11/site-packages (from matplotlib>3.7.4->autoviz) (4.25.0)\n",
      "Requirement already satisfied: kiwisolver>=1.3.1 in /Users/adelhassen/anaconda3/lib/python3.11/site-packages (from matplotlib>3.7.4->autoviz) (1.4.4)\n",
      "Requirement already satisfied: pillow>=8 in /Users/adelhassen/anaconda3/lib/python3.11/site-packages (from matplotlib>3.7.4->autoviz) (9.4.0)\n",
      "Requirement already satisfied: pyparsing>=2.3.1 in /Users/adelhassen/anaconda3/lib/python3.11/site-packages (from matplotlib>3.7.4->autoviz) (3.0.9)\n",
      "Requirement already satisfied: python-dateutil>=2.7 in /Users/adelhassen/anaconda3/lib/python3.11/site-packages (from matplotlib>3.7.4->autoviz) (2.8.2)\n",
      "Requirement already satisfied: pytz>=2020.1 in /Users/adelhassen/anaconda3/lib/python3.11/site-packages (from pandas>=2.0->autoviz) (2023.3.post1)\n",
      "Requirement already satisfied: tzdata>=2022.1 in /Users/adelhassen/anaconda3/lib/python3.11/site-packages (from pandas>=2.0->autoviz) (2023.3)\n",
      "Requirement already satisfied: xyzservices>=2021.09.1 in /Users/adelhassen/anaconda3/lib/python3.11/site-packages (from panel>=1.4.0->autoviz) (2022.9.0)\n",
      "Requirement already satisfied: markdown in /Users/adelhassen/anaconda3/lib/python3.11/site-packages (from panel>=1.4.0->autoviz) (3.4.1)\n",
      "Requirement already satisfied: markdown-it-py in /Users/adelhassen/anaconda3/lib/python3.11/site-packages (from panel>=1.4.0->autoviz) (2.2.0)\n",
      "Requirement already satisfied: linkify-it-py in /Users/adelhassen/anaconda3/lib/python3.11/site-packages (from panel>=1.4.0->autoviz) (2.0.0)\n",
      "Requirement already satisfied: mdit-py-plugins in /Users/adelhassen/anaconda3/lib/python3.11/site-packages (from panel>=1.4.0->autoviz) (0.3.0)\n",
      "Requirement already satisfied: requests in /Users/adelhassen/anaconda3/lib/python3.11/site-packages (from panel>=1.4.0->autoviz) (2.32.3)\n",
      "Requirement already satisfied: tqdm>=4.48.0 in /Users/adelhassen/anaconda3/lib/python3.11/site-packages (from panel>=1.4.0->autoviz) (4.65.0)\n",
      "Requirement already satisfied: bleach in /Users/adelhassen/anaconda3/lib/python3.11/site-packages (from panel>=1.4.0->autoviz) (4.1.0)\n",
      "Requirement already satisfied: scipy>=1.5.0 in /Users/adelhassen/anaconda3/lib/python3.11/site-packages (from scikit-learn->autoviz) (1.11.1)\n",
      "Requirement already satisfied: joblib>=1.1.1 in /Users/adelhassen/anaconda3/lib/python3.11/site-packages (from scikit-learn->autoviz) (1.1.1)\n",
      "Requirement already satisfied: threadpoolctl>=2.0.0 in /Users/adelhassen/anaconda3/lib/python3.11/site-packages (from scikit-learn->autoviz) (2.2.0)\n",
      "Requirement already satisfied: click in /Users/adelhassen/anaconda3/lib/python3.11/site-packages (from nltk->autoviz) (8.1.7)\n",
      "Requirement already satisfied: regex>=2021.8.3 in /Users/adelhassen/anaconda3/lib/python3.11/site-packages (from nltk->autoviz) (2022.7.9)\n",
      "Requirement already satisfied: patsy>=0.5.2 in /Users/adelhassen/anaconda3/lib/python3.11/site-packages (from statsmodels->autoviz) (0.5.3)\n",
      "Requirement already satisfied: Jinja2>=2.9 in /Users/adelhassen/anaconda3/lib/python3.11/site-packages (from bokeh>=1.0.0->hvplot>=0.9.2->autoviz) (3.1.2)\n",
      "Requirement already satisfied: PyYAML>=3.10 in /Users/adelhassen/anaconda3/lib/python3.11/site-packages (from bokeh>=1.0.0->hvplot>=0.9.2->autoviz) (6.0)\n",
      "Requirement already satisfied: tornado>=6.2 in /Users/adelhassen/anaconda3/lib/python3.11/site-packages (from bokeh>=1.0.0->hvplot>=0.9.2->autoviz) (6.3.2)\n",
      "Requirement already satisfied: pyct>=0.4.4 in /Users/adelhassen/anaconda3/lib/python3.11/site-packages (from colorcet->holoviews>=1.16.0->autoviz) (0.5.0)\n",
      "Requirement already satisfied: six in /Users/adelhassen/anaconda3/lib/python3.11/site-packages (from patsy>=0.5.2->statsmodels->autoviz) (1.16.0)\n",
      "Requirement already satisfied: webencodings in /Users/adelhassen/anaconda3/lib/python3.11/site-packages (from bleach->panel>=1.4.0->autoviz) (0.5.1)\n",
      "Requirement already satisfied: uc-micro-py in /Users/adelhassen/anaconda3/lib/python3.11/site-packages (from linkify-it-py->panel>=1.4.0->autoviz) (1.0.1)\n",
      "Requirement already satisfied: mdurl~=0.1 in /Users/adelhassen/anaconda3/lib/python3.11/site-packages (from markdown-it-py->panel>=1.4.0->autoviz) (0.1.0)\n",
      "Requirement already satisfied: charset-normalizer<4,>=2 in /Users/adelhassen/anaconda3/lib/python3.11/site-packages (from requests->panel>=1.4.0->autoviz) (2.0.4)\n",
      "Requirement already satisfied: idna<4,>=2.5 in /Users/adelhassen/anaconda3/lib/python3.11/site-packages (from requests->panel>=1.4.0->autoviz) (3.4)\n",
      "Requirement already satisfied: urllib3<3,>=1.21.1 in /Users/adelhassen/anaconda3/lib/python3.11/site-packages (from requests->panel>=1.4.0->autoviz) (2.2.2)\n",
      "Requirement already satisfied: certifi>=2017.4.17 in /Users/adelhassen/anaconda3/lib/python3.11/site-packages (from requests->panel>=1.4.0->autoviz) (2024.7.4)\n",
      "Requirement already satisfied: MarkupSafe>=2.0 in /Users/adelhassen/anaconda3/lib/python3.11/site-packages (from Jinja2>=2.9->bokeh>=1.0.0->hvplot>=0.9.2->autoviz) (2.1.1)\n",
      "Requirement already satisfied: dtale in /Users/adelhassen/anaconda3/lib/python3.11/site-packages (3.13.1)\n",
      "Requirement already satisfied: dash-colorscales in /Users/adelhassen/anaconda3/lib/python3.11/site-packages (from dtale) (0.0.4)\n",
      "Requirement already satisfied: dash-daq in /Users/adelhassen/anaconda3/lib/python3.11/site-packages (from dtale) (0.5.0)\n",
      "Requirement already satisfied: Flask-Compress in /Users/adelhassen/anaconda3/lib/python3.11/site-packages (from dtale) (1.15)\n",
      "Requirement already satisfied: future>=0.14.0 in /Users/adelhassen/anaconda3/lib/python3.11/site-packages (from dtale) (0.18.3)\n",
      "Requirement already satisfied: kaleido in /Users/adelhassen/anaconda3/lib/python3.11/site-packages (from dtale) (0.2.1)\n",
      "Requirement already satisfied: missingno in /Users/adelhassen/anaconda3/lib/python3.11/site-packages (from dtale) (0.5.2)\n",
      "Requirement already satisfied: pandas in /Users/adelhassen/anaconda3/lib/python3.11/site-packages (from dtale) (2.0.3)\n",
      "Requirement already satisfied: squarify in /Users/adelhassen/anaconda3/lib/python3.11/site-packages (from dtale) (0.4.4)\n",
      "Requirement already satisfied: strsimpy in /Users/adelhassen/anaconda3/lib/python3.11/site-packages (from dtale) (0.2.1)\n",
      "Requirement already satisfied: six in /Users/adelhassen/anaconda3/lib/python3.11/site-packages (from dtale) (1.16.0)\n",
      "Requirement already satisfied: xlrd in /Users/adelhassen/anaconda3/lib/python3.11/site-packages (from dtale) (2.0.1)\n",
      "Requirement already satisfied: beautifulsoup4!=4.13.0b2 in /Users/adelhassen/anaconda3/lib/python3.11/site-packages (from dtale) (4.12.2)\n",
      "Requirement already satisfied: certifi in /Users/adelhassen/anaconda3/lib/python3.11/site-packages (from dtale) (2024.7.4)\n",
      "Requirement already satisfied: flask-ngrok in /Users/adelhassen/anaconda3/lib/python3.11/site-packages (from dtale) (0.0.25)\n",
      "Requirement already satisfied: lz4 in /Users/adelhassen/anaconda3/lib/python3.11/site-packages (from dtale) (4.3.2)\n",
      "Requirement already satisfied: cycler in /Users/adelhassen/anaconda3/lib/python3.11/site-packages (from dtale) (0.11.0)\n",
      "Requirement already satisfied: dash-bootstrap-components<=1.3.1 in /Users/adelhassen/anaconda3/lib/python3.11/site-packages (from dtale) (1.3.1)\n",
      "Requirement already satisfied: dash in /Users/adelhassen/anaconda3/lib/python3.11/site-packages (from dtale) (2.17.1)\n",
      "Requirement already satisfied: seaborn in /Users/adelhassen/anaconda3/lib/python3.11/site-packages (from dtale) (0.13.2)\n",
      "Requirement already satisfied: werkzeug in /Users/adelhassen/anaconda3/lib/python3.11/site-packages (from dtale) (3.0.3)\n",
      "Requirement already satisfied: scikit-learn in /Users/adelhassen/anaconda3/lib/python3.11/site-packages (from dtale) (1.3.0)\n",
      "Requirement already satisfied: statsmodels in /Users/adelhassen/anaconda3/lib/python3.11/site-packages (from dtale) (0.14.0)\n",
      "Requirement already satisfied: networkx in /Users/adelhassen/anaconda3/lib/python3.11/site-packages (from dtale) (3.1)\n",
      "Requirement already satisfied: numpy in /Users/adelhassen/anaconda3/lib/python3.11/site-packages (from dtale) (1.24.3)\n",
      "Requirement already satisfied: openpyxl!=3.2.0b1 in /Users/adelhassen/anaconda3/lib/python3.11/site-packages (from dtale) (3.0.10)\n",
      "Requirement already satisfied: xarray in /Users/adelhassen/anaconda3/lib/python3.11/site-packages (from dtale) (2023.6.0)\n",
      "Requirement already satisfied: et-xmlfile in /Users/adelhassen/anaconda3/lib/python3.11/site-packages (from dtale) (1.1.0)\n",
      "Requirement already satisfied: plotly in /Users/adelhassen/anaconda3/lib/python3.11/site-packages (from dtale) (5.23.0)\n"
     ]
    },
    {
     "name": "stdout",
     "output_type": "stream",
     "text": [
      "Collecting Flask<2.3 (from dtale)\n",
      "  Obtaining dependency information for Flask<2.3 from https://files.pythonhosted.org/packages/9f/1a/8b6d48162861009d1e017a9740431c78d860809773b66cac220a11aa3310/Flask-2.2.5-py3-none-any.whl.metadata\n",
      "  Using cached Flask-2.2.5-py3-none-any.whl.metadata (3.9 kB)\n",
      "Requirement already satisfied: requests in /Users/adelhassen/anaconda3/lib/python3.11/site-packages (from dtale) (2.32.3)\n",
      "Requirement already satisfied: itsdangerous in /Users/adelhassen/anaconda3/lib/python3.11/site-packages (from dtale) (2.2.0)\n",
      "Requirement already satisfied: contourpy in /Users/adelhassen/anaconda3/lib/python3.11/site-packages (from dtale) (1.2.1)\n",
      "Requirement already satisfied: matplotlib in /Users/adelhassen/anaconda3/lib/python3.11/site-packages (from dtale) (3.9.1)\n",
      "Requirement already satisfied: scipy!=1.12.0rc1,!=1.14.0,!=1.14.0rc1,!=1.14.0rc2 in /Users/adelhassen/anaconda3/lib/python3.11/site-packages (from dtale) (1.11.1)\n",
      "Requirement already satisfied: soupsieve>1.2 in /Users/adelhassen/anaconda3/lib/python3.11/site-packages (from beautifulsoup4!=4.13.0b2->dtale) (2.4)\n",
      "Requirement already satisfied: dash-html-components==2.0.0 in /Users/adelhassen/anaconda3/lib/python3.11/site-packages (from dash->dtale) (2.0.0)\n",
      "Requirement already satisfied: dash-core-components==2.0.0 in /Users/adelhassen/anaconda3/lib/python3.11/site-packages (from dash->dtale) (2.0.0)\n",
      "Requirement already satisfied: dash-table==5.0.0 in /Users/adelhassen/anaconda3/lib/python3.11/site-packages (from dash->dtale) (5.0.0)\n",
      "Requirement already satisfied: importlib-metadata in /Users/adelhassen/anaconda3/lib/python3.11/site-packages (from dash->dtale) (6.0.0)\n",
      "Requirement already satisfied: typing-extensions>=4.1.1 in /Users/adelhassen/anaconda3/lib/python3.11/site-packages (from dash->dtale) (4.12.2)\n",
      "Requirement already satisfied: retrying in /Users/adelhassen/anaconda3/lib/python3.11/site-packages (from dash->dtale) (1.3.4)\n",
      "Requirement already satisfied: nest-asyncio in /Users/adelhassen/anaconda3/lib/python3.11/site-packages (from dash->dtale) (1.5.6)\n",
      "Requirement already satisfied: setuptools in /Users/adelhassen/anaconda3/lib/python3.11/site-packages (from dash->dtale) (68.0.0)\n",
      "Requirement already satisfied: Jinja2>=3.0 in /Users/adelhassen/anaconda3/lib/python3.11/site-packages (from Flask<2.3->dtale) (3.1.2)\n",
      "Requirement already satisfied: click>=8.0 in /Users/adelhassen/anaconda3/lib/python3.11/site-packages (from Flask<2.3->dtale) (8.1.7)\n",
      "Requirement already satisfied: tenacity>=6.2.0 in /Users/adelhassen/anaconda3/lib/python3.11/site-packages (from plotly->dtale) (8.2.2)\n",
      "Requirement already satisfied: packaging in /Users/adelhassen/anaconda3/lib/python3.11/site-packages (from plotly->dtale) (23.1)\n",
      "Requirement already satisfied: MarkupSafe>=2.1.1 in /Users/adelhassen/anaconda3/lib/python3.11/site-packages (from werkzeug->dtale) (2.1.1)\n",
      "Requirement already satisfied: brotli in /Users/adelhassen/anaconda3/lib/python3.11/site-packages (from Flask-Compress->dtale) (1.1.0)\n",
      "Requirement already satisfied: zstandard in /Users/adelhassen/anaconda3/lib/python3.11/site-packages (from Flask-Compress->dtale) (0.19.0)\n",
      "Requirement already satisfied: fonttools>=4.22.0 in /Users/adelhassen/anaconda3/lib/python3.11/site-packages (from matplotlib->dtale) (4.25.0)\n",
      "Requirement already satisfied: kiwisolver>=1.3.1 in /Users/adelhassen/anaconda3/lib/python3.11/site-packages (from matplotlib->dtale) (1.4.4)\n",
      "Requirement already satisfied: pillow>=8 in /Users/adelhassen/anaconda3/lib/python3.11/site-packages (from matplotlib->dtale) (9.4.0)\n",
      "Requirement already satisfied: pyparsing>=2.3.1 in /Users/adelhassen/anaconda3/lib/python3.11/site-packages (from matplotlib->dtale) (3.0.9)\n",
      "Requirement already satisfied: python-dateutil>=2.7 in /Users/adelhassen/anaconda3/lib/python3.11/site-packages (from matplotlib->dtale) (2.8.2)\n",
      "Requirement already satisfied: pytz>=2020.1 in /Users/adelhassen/anaconda3/lib/python3.11/site-packages (from pandas->dtale) (2023.3.post1)\n",
      "Requirement already satisfied: tzdata>=2022.1 in /Users/adelhassen/anaconda3/lib/python3.11/site-packages (from pandas->dtale) (2023.3)\n",
      "Requirement already satisfied: charset-normalizer<4,>=2 in /Users/adelhassen/anaconda3/lib/python3.11/site-packages (from requests->dtale) (2.0.4)\n",
      "Requirement already satisfied: idna<4,>=2.5 in /Users/adelhassen/anaconda3/lib/python3.11/site-packages (from requests->dtale) (3.4)\n",
      "Requirement already satisfied: urllib3<3,>=1.21.1 in /Users/adelhassen/anaconda3/lib/python3.11/site-packages (from requests->dtale) (2.2.2)\n",
      "Requirement already satisfied: joblib>=1.1.1 in /Users/adelhassen/anaconda3/lib/python3.11/site-packages (from scikit-learn->dtale) (1.1.1)\n",
      "Requirement already satisfied: threadpoolctl>=2.0.0 in /Users/adelhassen/anaconda3/lib/python3.11/site-packages (from scikit-learn->dtale) (2.2.0)\n",
      "Requirement already satisfied: patsy>=0.5.2 in /Users/adelhassen/anaconda3/lib/python3.11/site-packages (from statsmodels->dtale) (0.5.3)\n",
      "Requirement already satisfied: zipp>=0.5 in /Users/adelhassen/anaconda3/lib/python3.11/site-packages (from importlib-metadata->dash->dtale) (3.11.0)\n",
      "Using cached Flask-2.2.5-py3-none-any.whl (101 kB)\n",
      "Installing collected packages: Flask\n",
      "  Attempting uninstall: Flask\n",
      "    Found existing installation: Flask 3.0.3\n",
      "    Uninstalling Flask-3.0.3:\n",
      "      Successfully uninstalled Flask-3.0.3\n",
      "Successfully installed Flask-2.2.5\n",
      "Requirement already satisfied: boto3 in /Users/adelhassen/anaconda3/lib/python3.11/site-packages (1.34.148)\n",
      "Requirement already satisfied: botocore<1.35.0,>=1.34.148 in /Users/adelhassen/anaconda3/lib/python3.11/site-packages (from boto3) (1.34.148)\n",
      "Requirement already satisfied: jmespath<2.0.0,>=0.7.1 in /Users/adelhassen/anaconda3/lib/python3.11/site-packages (from boto3) (0.10.0)\n",
      "Requirement already satisfied: s3transfer<0.11.0,>=0.10.0 in /Users/adelhassen/anaconda3/lib/python3.11/site-packages (from boto3) (0.10.2)\n",
      "Requirement already satisfied: python-dateutil<3.0.0,>=2.1 in /Users/adelhassen/anaconda3/lib/python3.11/site-packages (from botocore<1.35.0,>=1.34.148->boto3) (2.8.2)\n",
      "Requirement already satisfied: urllib3!=2.2.0,<3,>=1.25.4 in /Users/adelhassen/anaconda3/lib/python3.11/site-packages (from botocore<1.35.0,>=1.34.148->boto3) (2.2.2)\n",
      "Requirement already satisfied: six>=1.5 in /Users/adelhassen/anaconda3/lib/python3.11/site-packages (from python-dateutil<3.0.0,>=2.1->botocore<1.35.0,>=1.34.148->boto3) (1.16.0)\n",
      "Requirement already satisfied: evidently in /Users/adelhassen/anaconda3/lib/python3.11/site-packages (0.4.31)\n",
      "Requirement already satisfied: plotly>=5.10.0 in /Users/adelhassen/anaconda3/lib/python3.11/site-packages (from evidently) (5.23.0)\n",
      "Requirement already satisfied: statsmodels>=0.12.2 in /Users/adelhassen/anaconda3/lib/python3.11/site-packages (from evidently) (0.14.0)\n",
      "Requirement already satisfied: scikit-learn>=1.0.1 in /Users/adelhassen/anaconda3/lib/python3.11/site-packages (from evidently) (1.3.0)\n",
      "Requirement already satisfied: pandas[parquet]>=1.3.5 in /Users/adelhassen/anaconda3/lib/python3.11/site-packages (from evidently) (2.0.3)\n",
      "Requirement already satisfied: numpy>=1.22.0 in /Users/adelhassen/anaconda3/lib/python3.11/site-packages (from evidently) (1.24.3)\n",
      "Requirement already satisfied: nltk>=3.6.7 in /Users/adelhassen/anaconda3/lib/python3.11/site-packages (from evidently) (3.8.1)\n",
      "Requirement already satisfied: scipy>=1.10.0 in /Users/adelhassen/anaconda3/lib/python3.11/site-packages (from evidently) (1.11.1)\n",
      "Requirement already satisfied: requests>=2.32.0 in /Users/adelhassen/anaconda3/lib/python3.11/site-packages (from evidently) (2.32.3)\n",
      "Requirement already satisfied: PyYAML>=5.4 in /Users/adelhassen/anaconda3/lib/python3.11/site-packages (from evidently) (6.0)\n",
      "Requirement already satisfied: pydantic>=1.10.13 in /Users/adelhassen/anaconda3/lib/python3.11/site-packages (from evidently) (2.8.2)\n",
      "Requirement already satisfied: litestar>=2.8.3 in /Users/adelhassen/anaconda3/lib/python3.11/site-packages (from evidently) (2.9.1)\n",
      "Requirement already satisfied: typing-inspect>=0.9.0 in /Users/adelhassen/anaconda3/lib/python3.11/site-packages (from evidently) (0.9.0)\n",
      "Requirement already satisfied: uvicorn[standard]>=0.22.0 in /Users/adelhassen/anaconda3/lib/python3.11/site-packages (from evidently) (0.30.3)\n",
      "Requirement already satisfied: watchdog>=3.0.0 in /Users/adelhassen/anaconda3/lib/python3.11/site-packages (from evidently) (4.0.1)\n",
      "Requirement already satisfied: typer>=0.3 in /Users/adelhassen/anaconda3/lib/python3.11/site-packages (from evidently) (0.12.3)\n",
      "Requirement already satisfied: rich>=13 in /Users/adelhassen/anaconda3/lib/python3.11/site-packages (from evidently) (13.7.1)\n",
      "Requirement already satisfied: iterative-telemetry>=0.0.5 in /Users/adelhassen/anaconda3/lib/python3.11/site-packages (from evidently) (0.0.8)\n",
      "Requirement already satisfied: dynaconf>=3.2.4 in /Users/adelhassen/anaconda3/lib/python3.11/site-packages (from evidently) (3.2.6)\n",
      "Requirement already satisfied: certifi>=2024.7.4 in /Users/adelhassen/anaconda3/lib/python3.11/site-packages (from evidently) (2024.7.4)\n",
      "Requirement already satisfied: urllib3>=1.26.19 in /Users/adelhassen/anaconda3/lib/python3.11/site-packages (from evidently) (2.2.2)\n",
      "Requirement already satisfied: fsspec>=2024.2.0 in /Users/adelhassen/anaconda3/lib/python3.11/site-packages (from evidently) (2024.6.1)\n",
      "Requirement already satisfied: ujson>=5.4.0 in /Users/adelhassen/anaconda3/lib/python3.11/site-packages (from evidently) (5.4.0)\n",
      "Requirement already satisfied: opentelemetry-api>=1.25.0 in /Users/adelhassen/anaconda3/lib/python3.11/site-packages (from evidently) (1.26.0)\n",
      "Requirement already satisfied: opentelemetry-sdk>=1.25.0 in /Users/adelhassen/anaconda3/lib/python3.11/site-packages (from evidently) (1.26.0)\n",
      "Requirement already satisfied: opentelemetry-proto>=1.25.0 in /Users/adelhassen/anaconda3/lib/python3.11/site-packages (from evidently) (1.26.0)\n",
      "Requirement already satisfied: opentelemetry-exporter-otlp-proto-grpc>=1.25.0 in /Users/adelhassen/anaconda3/lib/python3.11/site-packages (from evidently) (1.26.0)\n",
      "Requirement already satisfied: opentelemetry-exporter-otlp-proto-http>=1.25.0 in /Users/adelhassen/anaconda3/lib/python3.11/site-packages (from evidently) (1.26.0)\n"
     ]
    },
    {
     "name": "stdout",
     "output_type": "stream",
     "text": [
      "Requirement already satisfied: appdirs in /Users/adelhassen/anaconda3/lib/python3.11/site-packages (from iterative-telemetry>=0.0.5->evidently) (1.4.4)\n",
      "Requirement already satisfied: filelock in /Users/adelhassen/anaconda3/lib/python3.11/site-packages (from iterative-telemetry>=0.0.5->evidently) (3.9.0)\n",
      "Requirement already satisfied: distro in /Users/adelhassen/anaconda3/lib/python3.11/site-packages (from iterative-telemetry>=0.0.5->evidently) (1.9.0)\n",
      "Requirement already satisfied: anyio>=3 in /Users/adelhassen/anaconda3/lib/python3.11/site-packages (from litestar>=2.8.3->evidently) (3.5.0)\n",
      "Requirement already satisfied: click in /Users/adelhassen/anaconda3/lib/python3.11/site-packages (from litestar>=2.8.3->evidently) (8.1.7)\n",
      "Requirement already satisfied: httpx>=0.22 in /Users/adelhassen/anaconda3/lib/python3.11/site-packages (from litestar>=2.8.3->evidently) (0.27.0)\n",
      "Requirement already satisfied: msgspec>=0.18.2 in /Users/adelhassen/anaconda3/lib/python3.11/site-packages (from litestar>=2.8.3->evidently) (0.18.6)\n",
      "Requirement already satisfied: multidict>=6.0.2 in /Users/adelhassen/anaconda3/lib/python3.11/site-packages (from litestar>=2.8.3->evidently) (6.0.2)\n",
      "Requirement already satisfied: polyfactory>=2.6.3 in /Users/adelhassen/anaconda3/lib/python3.11/site-packages (from litestar>=2.8.3->evidently) (2.16.2)\n",
      "Requirement already satisfied: rich-click in /Users/adelhassen/anaconda3/lib/python3.11/site-packages (from litestar>=2.8.3->evidently) (1.8.3)\n",
      "Requirement already satisfied: typing-extensions in /Users/adelhassen/anaconda3/lib/python3.11/site-packages (from litestar>=2.8.3->evidently) (4.12.2)\n",
      "Requirement already satisfied: joblib in /Users/adelhassen/anaconda3/lib/python3.11/site-packages (from nltk>=3.6.7->evidently) (1.1.1)\n",
      "Requirement already satisfied: regex>=2021.8.3 in /Users/adelhassen/anaconda3/lib/python3.11/site-packages (from nltk>=3.6.7->evidently) (2022.7.9)\n",
      "Requirement already satisfied: tqdm in /Users/adelhassen/anaconda3/lib/python3.11/site-packages (from nltk>=3.6.7->evidently) (4.65.0)\n",
      "Requirement already satisfied: deprecated>=1.2.6 in /Users/adelhassen/anaconda3/lib/python3.11/site-packages (from opentelemetry-api>=1.25.0->evidently) (1.2.14)\n",
      "Requirement already satisfied: importlib-metadata<=8.0.0,>=6.0 in /Users/adelhassen/anaconda3/lib/python3.11/site-packages (from opentelemetry-api>=1.25.0->evidently) (6.0.0)\n",
      "Requirement already satisfied: googleapis-common-protos~=1.52 in /Users/adelhassen/anaconda3/lib/python3.11/site-packages (from opentelemetry-exporter-otlp-proto-grpc>=1.25.0->evidently) (1.63.2)\n",
      "Requirement already satisfied: grpcio<2.0.0,>=1.0.0 in /Users/adelhassen/anaconda3/lib/python3.11/site-packages (from opentelemetry-exporter-otlp-proto-grpc>=1.25.0->evidently) (1.65.1)\n",
      "Requirement already satisfied: opentelemetry-exporter-otlp-proto-common==1.26.0 in /Users/adelhassen/anaconda3/lib/python3.11/site-packages (from opentelemetry-exporter-otlp-proto-grpc>=1.25.0->evidently) (1.26.0)\n",
      "Requirement already satisfied: protobuf<5.0,>=3.19 in /Users/adelhassen/anaconda3/lib/python3.11/site-packages (from opentelemetry-proto>=1.25.0->evidently) (4.25.3)\n",
      "Requirement already satisfied: opentelemetry-semantic-conventions==0.47b0 in /Users/adelhassen/anaconda3/lib/python3.11/site-packages (from opentelemetry-sdk>=1.25.0->evidently) (0.47b0)\n",
      "Requirement already satisfied: python-dateutil>=2.8.2 in /Users/adelhassen/anaconda3/lib/python3.11/site-packages (from pandas[parquet]>=1.3.5->evidently) (2.8.2)\n",
      "Requirement already satisfied: pytz>=2020.1 in /Users/adelhassen/anaconda3/lib/python3.11/site-packages (from pandas[parquet]>=1.3.5->evidently) (2023.3.post1)\n",
      "Requirement already satisfied: tzdata>=2022.1 in /Users/adelhassen/anaconda3/lib/python3.11/site-packages (from pandas[parquet]>=1.3.5->evidently) (2023.3)\n",
      "Requirement already satisfied: pyarrow>=7.0.0 in /Users/adelhassen/anaconda3/lib/python3.11/site-packages (from pandas[parquet]>=1.3.5->evidently) (11.0.0)\n",
      "Requirement already satisfied: tenacity>=6.2.0 in /Users/adelhassen/anaconda3/lib/python3.11/site-packages (from plotly>=5.10.0->evidently) (8.2.2)\n",
      "Requirement already satisfied: packaging in /Users/adelhassen/anaconda3/lib/python3.11/site-packages (from plotly>=5.10.0->evidently) (23.1)\n",
      "Requirement already satisfied: annotated-types>=0.4.0 in /Users/adelhassen/anaconda3/lib/python3.11/site-packages (from pydantic>=1.10.13->evidently) (0.7.0)\n",
      "Requirement already satisfied: pydantic-core==2.20.1 in /Users/adelhassen/anaconda3/lib/python3.11/site-packages (from pydantic>=1.10.13->evidently) (2.20.1)\n",
      "Requirement already satisfied: charset-normalizer<4,>=2 in /Users/adelhassen/anaconda3/lib/python3.11/site-packages (from requests>=2.32.0->evidently) (2.0.4)\n",
      "Requirement already satisfied: idna<4,>=2.5 in /Users/adelhassen/anaconda3/lib/python3.11/site-packages (from requests>=2.32.0->evidently) (3.4)\n",
      "Requirement already satisfied: markdown-it-py>=2.2.0 in /Users/adelhassen/anaconda3/lib/python3.11/site-packages (from rich>=13->evidently) (2.2.0)\n",
      "Requirement already satisfied: pygments<3.0.0,>=2.13.0 in /Users/adelhassen/anaconda3/lib/python3.11/site-packages (from rich>=13->evidently) (2.15.1)\n",
      "Requirement already satisfied: threadpoolctl>=2.0.0 in /Users/adelhassen/anaconda3/lib/python3.11/site-packages (from scikit-learn>=1.0.1->evidently) (2.2.0)\n",
      "Requirement already satisfied: patsy>=0.5.2 in /Users/adelhassen/anaconda3/lib/python3.11/site-packages (from statsmodels>=0.12.2->evidently) (0.5.3)\n",
      "Requirement already satisfied: shellingham>=1.3.0 in /Users/adelhassen/anaconda3/lib/python3.11/site-packages (from typer>=0.3->evidently) (1.5.4)\n",
      "Requirement already satisfied: mypy-extensions>=0.3.0 in /Users/adelhassen/anaconda3/lib/python3.11/site-packages (from typing-inspect>=0.9.0->evidently) (1.0.0)\n",
      "Requirement already satisfied: h11>=0.8 in /Users/adelhassen/anaconda3/lib/python3.11/site-packages (from uvicorn[standard]>=0.22.0->evidently) (0.14.0)\n",
      "Requirement already satisfied: httptools>=0.5.0 in /Users/adelhassen/anaconda3/lib/python3.11/site-packages (from uvicorn[standard]>=0.22.0->evidently) (0.6.1)\n",
      "Requirement already satisfied: python-dotenv>=0.13 in /Users/adelhassen/anaconda3/lib/python3.11/site-packages (from uvicorn[standard]>=0.22.0->evidently) (0.21.0)\n",
      "Requirement already satisfied: uvloop!=0.15.0,!=0.15.1,>=0.14.0 in /Users/adelhassen/anaconda3/lib/python3.11/site-packages (from uvicorn[standard]>=0.22.0->evidently) (0.19.0)\n",
      "Requirement already satisfied: watchfiles>=0.13 in /Users/adelhassen/anaconda3/lib/python3.11/site-packages (from uvicorn[standard]>=0.22.0->evidently) (0.22.0)\n",
      "Requirement already satisfied: websockets>=10.4 in /Users/adelhassen/anaconda3/lib/python3.11/site-packages (from uvicorn[standard]>=0.22.0->evidently) (12.0)\n",
      "Requirement already satisfied: sniffio>=1.1 in /Users/adelhassen/anaconda3/lib/python3.11/site-packages (from anyio>=3->litestar>=2.8.3->evidently) (1.2.0)\n",
      "Requirement already satisfied: wrapt<2,>=1.10 in /Users/adelhassen/anaconda3/lib/python3.11/site-packages (from deprecated>=1.2.6->opentelemetry-api>=1.25.0->evidently) (1.14.1)\n",
      "Requirement already satisfied: httpcore==1.* in /Users/adelhassen/anaconda3/lib/python3.11/site-packages (from httpx>=0.22->litestar>=2.8.3->evidently) (1.0.5)\n",
      "Requirement already satisfied: zipp>=0.5 in /Users/adelhassen/anaconda3/lib/python3.11/site-packages (from importlib-metadata<=8.0.0,>=6.0->opentelemetry-api>=1.25.0->evidently) (3.11.0)\n",
      "Requirement already satisfied: mdurl~=0.1 in /Users/adelhassen/anaconda3/lib/python3.11/site-packages (from markdown-it-py>=2.2.0->rich>=13->evidently) (0.1.0)\n",
      "Requirement already satisfied: six in /Users/adelhassen/anaconda3/lib/python3.11/site-packages (from patsy>=0.5.2->statsmodels>=0.12.2->evidently) (1.16.0)\n",
      "Requirement already satisfied: faker in /Users/adelhassen/anaconda3/lib/python3.11/site-packages (from polyfactory>=2.6.3->litestar>=2.8.3->evidently) (22.6.0)\n",
      "Requirement already satisfied: flask in /Users/adelhassen/anaconda3/lib/python3.11/site-packages (2.2.5)\n",
      "Collecting flask\n",
      "  Obtaining dependency information for flask from https://files.pythonhosted.org/packages/61/80/ffe1da13ad9300f87c93af113edd0638c75138c42a0994becfacac078c06/flask-3.0.3-py3-none-any.whl.metadata\n",
      "  Using cached flask-3.0.3-py3-none-any.whl.metadata (3.2 kB)\n",
      "Requirement already satisfied: Werkzeug>=3.0.0 in /Users/adelhassen/anaconda3/lib/python3.11/site-packages (from flask) (3.0.3)\n",
      "Requirement already satisfied: Jinja2>=3.1.2 in /Users/adelhassen/anaconda3/lib/python3.11/site-packages (from flask) (3.1.2)\n",
      "Requirement already satisfied: itsdangerous>=2.1.2 in /Users/adelhassen/anaconda3/lib/python3.11/site-packages (from flask) (2.2.0)\n",
      "Requirement already satisfied: click>=8.1.3 in /Users/adelhassen/anaconda3/lib/python3.11/site-packages (from flask) (8.1.7)\n",
      "Requirement already satisfied: blinker>=1.6.2 in /Users/adelhassen/anaconda3/lib/python3.11/site-packages (from flask) (1.8.2)\n",
      "Requirement already satisfied: MarkupSafe>=2.0 in /Users/adelhassen/anaconda3/lib/python3.11/site-packages (from Jinja2>=3.1.2->flask) (2.1.1)\n",
      "Using cached flask-3.0.3-py3-none-any.whl (101 kB)\n"
     ]
    },
    {
     "name": "stdout",
     "output_type": "stream",
     "text": [
      "Installing collected packages: flask\n",
      "  Attempting uninstall: flask\n",
      "    Found existing installation: Flask 2.2.5\n",
      "    Uninstalling Flask-2.2.5:\n",
      "      Successfully uninstalled Flask-2.2.5\n",
      "\u001b[31mERROR: pip's dependency resolver does not currently take into account all the packages that are installed. This behaviour is the source of the following dependency conflicts.\n",
      "dtale 3.13.1 requires Flask<2.3; python_version >= \"3.7\", but you have flask 3.0.3 which is incompatible.\u001b[0m\u001b[31m\n",
      "\u001b[0mSuccessfully installed flask-3.0.3\n",
      "Requirement already satisfied: watchdog in /Users/adelhassen/anaconda3/lib/python3.11/site-packages (4.0.1)\n",
      "Requirement already satisfied: PyQt6 in /Users/adelhassen/anaconda3/lib/python3.11/site-packages (6.7.1)\n",
      "Requirement already satisfied: PyQt6-sip<14,>=13.8 in /Users/adelhassen/anaconda3/lib/python3.11/site-packages (from PyQt6) (13.8.0)\n",
      "Requirement already satisfied: PyQt6-Qt6<6.8.0,>=6.7.0 in /Users/adelhassen/anaconda3/lib/python3.11/site-packages (from PyQt6) (6.7.2)\n",
      "Requirement already satisfied: hyperopt in /Users/adelhassen/anaconda3/lib/python3.11/site-packages (0.2.7)\n",
      "Requirement already satisfied: numpy in /Users/adelhassen/anaconda3/lib/python3.11/site-packages (from hyperopt) (1.24.3)\n",
      "Requirement already satisfied: scipy in /Users/adelhassen/anaconda3/lib/python3.11/site-packages (from hyperopt) (1.11.1)\n",
      "Requirement already satisfied: six in /Users/adelhassen/anaconda3/lib/python3.11/site-packages (from hyperopt) (1.16.0)\n",
      "Requirement already satisfied: networkx>=2.2 in /Users/adelhassen/anaconda3/lib/python3.11/site-packages (from hyperopt) (3.1)\n",
      "Requirement already satisfied: future in /Users/adelhassen/anaconda3/lib/python3.11/site-packages (from hyperopt) (0.18.3)\n",
      "Requirement already satisfied: tqdm in /Users/adelhassen/anaconda3/lib/python3.11/site-packages (from hyperopt) (4.65.0)\n",
      "Requirement already satisfied: cloudpickle in /Users/adelhassen/anaconda3/lib/python3.11/site-packages (from hyperopt) (2.2.1)\n",
      "Requirement already satisfied: py4j in /Users/adelhassen/anaconda3/lib/python3.11/site-packages (from hyperopt) (0.10.9.7)\n",
      "Requirement already satisfied: mlflow in /Users/adelhassen/anaconda3/lib/python3.11/site-packages (2.14.3)\n",
      "Requirement already satisfied: Flask<4 in /Users/adelhassen/anaconda3/lib/python3.11/site-packages (from mlflow) (3.0.3)\n",
      "Requirement already satisfied: alembic!=1.10.0,<2 in /Users/adelhassen/anaconda3/lib/python3.11/site-packages (from mlflow) (1.13.2)\n",
      "Requirement already satisfied: cachetools<6,>=5.0.0 in /Users/adelhassen/anaconda3/lib/python3.11/site-packages (from mlflow) (5.4.0)\n",
      "Requirement already satisfied: click<9,>=7.0 in /Users/adelhassen/anaconda3/lib/python3.11/site-packages (from mlflow) (8.1.7)\n",
      "Requirement already satisfied: cloudpickle<4 in /Users/adelhassen/anaconda3/lib/python3.11/site-packages (from mlflow) (2.2.1)\n",
      "Requirement already satisfied: docker<8,>=4.0.0 in /Users/adelhassen/anaconda3/lib/python3.11/site-packages (from mlflow) (7.1.0)\n",
      "Requirement already satisfied: entrypoints<1 in /Users/adelhassen/anaconda3/lib/python3.11/site-packages (from mlflow) (0.4)\n",
      "Requirement already satisfied: gitpython<4,>=3.1.9 in /Users/adelhassen/anaconda3/lib/python3.11/site-packages (from mlflow) (3.1.43)\n",
      "Requirement already satisfied: graphene<4 in /Users/adelhassen/anaconda3/lib/python3.11/site-packages (from mlflow) (3.3)\n",
      "Requirement already satisfied: importlib-metadata!=4.7.0,<8,>=3.7.0 in /Users/adelhassen/anaconda3/lib/python3.11/site-packages (from mlflow) (6.0.0)\n",
      "Requirement already satisfied: markdown<4,>=3.3 in /Users/adelhassen/anaconda3/lib/python3.11/site-packages (from mlflow) (3.4.1)\n",
      "Requirement already satisfied: matplotlib<4 in /Users/adelhassen/anaconda3/lib/python3.11/site-packages (from mlflow) (3.9.1)\n",
      "Requirement already satisfied: numpy<2 in /Users/adelhassen/anaconda3/lib/python3.11/site-packages (from mlflow) (1.24.3)\n",
      "Requirement already satisfied: opentelemetry-api<3,>=1.9.0 in /Users/adelhassen/anaconda3/lib/python3.11/site-packages (from mlflow) (1.26.0)\n",
      "Requirement already satisfied: opentelemetry-sdk<3,>=1.9.0 in /Users/adelhassen/anaconda3/lib/python3.11/site-packages (from mlflow) (1.26.0)\n",
      "Requirement already satisfied: packaging<25 in /Users/adelhassen/anaconda3/lib/python3.11/site-packages (from mlflow) (23.1)\n",
      "Requirement already satisfied: pandas<3 in /Users/adelhassen/anaconda3/lib/python3.11/site-packages (from mlflow) (2.0.3)\n",
      "Requirement already satisfied: protobuf<5,>=3.12.0 in /Users/adelhassen/anaconda3/lib/python3.11/site-packages (from mlflow) (4.25.3)\n",
      "Requirement already satisfied: pyarrow<16,>=4.0.0 in /Users/adelhassen/anaconda3/lib/python3.11/site-packages (from mlflow) (11.0.0)\n",
      "Requirement already satisfied: pytz<2025 in /Users/adelhassen/anaconda3/lib/python3.11/site-packages (from mlflow) (2023.3.post1)\n",
      "Requirement already satisfied: pyyaml<7,>=5.1 in /Users/adelhassen/anaconda3/lib/python3.11/site-packages (from mlflow) (6.0)\n",
      "Requirement already satisfied: querystring-parser<2 in /Users/adelhassen/anaconda3/lib/python3.11/site-packages (from mlflow) (1.2.4)\n",
      "Requirement already satisfied: requests<3,>=2.17.3 in /Users/adelhassen/anaconda3/lib/python3.11/site-packages (from mlflow) (2.32.3)\n",
      "Requirement already satisfied: scikit-learn<2 in /Users/adelhassen/anaconda3/lib/python3.11/site-packages (from mlflow) (1.3.0)\n",
      "Requirement already satisfied: scipy<2 in /Users/adelhassen/anaconda3/lib/python3.11/site-packages (from mlflow) (1.11.1)\n",
      "Requirement already satisfied: sqlalchemy<3,>=1.4.0 in /Users/adelhassen/anaconda3/lib/python3.11/site-packages (from mlflow) (1.4.39)\n",
      "Requirement already satisfied: sqlparse<1,>=0.4.0 in /Users/adelhassen/anaconda3/lib/python3.11/site-packages (from mlflow) (0.5.1)\n",
      "Requirement already satisfied: Jinja2<4,>=2.11 in /Users/adelhassen/anaconda3/lib/python3.11/site-packages (from mlflow) (3.1.2)\n",
      "Requirement already satisfied: gunicorn<23 in /Users/adelhassen/anaconda3/lib/python3.11/site-packages (from mlflow) (22.0.0)\n",
      "Requirement already satisfied: Mako in /Users/adelhassen/anaconda3/lib/python3.11/site-packages (from alembic!=1.10.0,<2->mlflow) (1.3.5)\n",
      "Requirement already satisfied: typing-extensions>=4 in /Users/adelhassen/anaconda3/lib/python3.11/site-packages (from alembic!=1.10.0,<2->mlflow) (4.12.2)\n",
      "Requirement already satisfied: urllib3>=1.26.0 in /Users/adelhassen/anaconda3/lib/python3.11/site-packages (from docker<8,>=4.0.0->mlflow) (2.2.2)\n",
      "Requirement already satisfied: Werkzeug>=3.0.0 in /Users/adelhassen/anaconda3/lib/python3.11/site-packages (from Flask<4->mlflow) (3.0.3)\n",
      "Requirement already satisfied: itsdangerous>=2.1.2 in /Users/adelhassen/anaconda3/lib/python3.11/site-packages (from Flask<4->mlflow) (2.2.0)\n",
      "Requirement already satisfied: blinker>=1.6.2 in /Users/adelhassen/anaconda3/lib/python3.11/site-packages (from Flask<4->mlflow) (1.8.2)\n",
      "Requirement already satisfied: gitdb<5,>=4.0.1 in /Users/adelhassen/anaconda3/lib/python3.11/site-packages (from gitpython<4,>=3.1.9->mlflow) (4.0.11)\n",
      "Requirement already satisfied: graphql-core<3.3,>=3.1 in /Users/adelhassen/anaconda3/lib/python3.11/site-packages (from graphene<4->mlflow) (3.2.3)\n",
      "Requirement already satisfied: graphql-relay<3.3,>=3.1 in /Users/adelhassen/anaconda3/lib/python3.11/site-packages (from graphene<4->mlflow) (3.2.0)\n",
      "Requirement already satisfied: aniso8601<10,>=8 in /Users/adelhassen/anaconda3/lib/python3.11/site-packages (from graphene<4->mlflow) (9.0.1)\n",
      "Requirement already satisfied: zipp>=0.5 in /Users/adelhassen/anaconda3/lib/python3.11/site-packages (from importlib-metadata!=4.7.0,<8,>=3.7.0->mlflow) (3.11.0)\n",
      "Requirement already satisfied: MarkupSafe>=2.0 in /Users/adelhassen/anaconda3/lib/python3.11/site-packages (from Jinja2<4,>=2.11->mlflow) (2.1.1)\n",
      "Requirement already satisfied: contourpy>=1.0.1 in /Users/adelhassen/anaconda3/lib/python3.11/site-packages (from matplotlib<4->mlflow) (1.2.1)\n",
      "Requirement already satisfied: cycler>=0.10 in /Users/adelhassen/anaconda3/lib/python3.11/site-packages (from matplotlib<4->mlflow) (0.11.0)\n",
      "Requirement already satisfied: fonttools>=4.22.0 in /Users/adelhassen/anaconda3/lib/python3.11/site-packages (from matplotlib<4->mlflow) (4.25.0)\n",
      "Requirement already satisfied: kiwisolver>=1.3.1 in /Users/adelhassen/anaconda3/lib/python3.11/site-packages (from matplotlib<4->mlflow) (1.4.4)\n",
      "Requirement already satisfied: pillow>=8 in /Users/adelhassen/anaconda3/lib/python3.11/site-packages (from matplotlib<4->mlflow) (9.4.0)\n",
      "Requirement already satisfied: pyparsing>=2.3.1 in /Users/adelhassen/anaconda3/lib/python3.11/site-packages (from matplotlib<4->mlflow) (3.0.9)\n",
      "Requirement already satisfied: python-dateutil>=2.7 in /Users/adelhassen/anaconda3/lib/python3.11/site-packages (from matplotlib<4->mlflow) (2.8.2)\n",
      "Requirement already satisfied: deprecated>=1.2.6 in /Users/adelhassen/anaconda3/lib/python3.11/site-packages (from opentelemetry-api<3,>=1.9.0->mlflow) (1.2.14)\n",
      "Requirement already satisfied: opentelemetry-semantic-conventions==0.47b0 in /Users/adelhassen/anaconda3/lib/python3.11/site-packages (from opentelemetry-sdk<3,>=1.9.0->mlflow) (0.47b0)\n",
      "Requirement already satisfied: tzdata>=2022.1 in /Users/adelhassen/anaconda3/lib/python3.11/site-packages (from pandas<3->mlflow) (2023.3)\n",
      "Requirement already satisfied: six in /Users/adelhassen/anaconda3/lib/python3.11/site-packages (from querystring-parser<2->mlflow) (1.16.0)\n"
     ]
    },
    {
     "name": "stdout",
     "output_type": "stream",
     "text": [
      "Requirement already satisfied: charset-normalizer<4,>=2 in /Users/adelhassen/anaconda3/lib/python3.11/site-packages (from requests<3,>=2.17.3->mlflow) (2.0.4)\n",
      "Requirement already satisfied: idna<4,>=2.5 in /Users/adelhassen/anaconda3/lib/python3.11/site-packages (from requests<3,>=2.17.3->mlflow) (3.4)\n",
      "Requirement already satisfied: certifi>=2017.4.17 in /Users/adelhassen/anaconda3/lib/python3.11/site-packages (from requests<3,>=2.17.3->mlflow) (2024.7.4)\n",
      "Requirement already satisfied: joblib>=1.1.1 in /Users/adelhassen/anaconda3/lib/python3.11/site-packages (from scikit-learn<2->mlflow) (1.1.1)\n",
      "Requirement already satisfied: threadpoolctl>=2.0.0 in /Users/adelhassen/anaconda3/lib/python3.11/site-packages (from scikit-learn<2->mlflow) (2.2.0)\n",
      "Requirement already satisfied: wrapt<2,>=1.10 in /Users/adelhassen/anaconda3/lib/python3.11/site-packages (from deprecated>=1.2.6->opentelemetry-api<3,>=1.9.0->mlflow) (1.14.1)\n",
      "Requirement already satisfied: smmap<6,>=3.0.1 in /Users/adelhassen/anaconda3/lib/python3.11/site-packages (from gitdb<5,>=4.0.1->gitpython<4,>=3.1.9->mlflow) (5.0.1)\n"
     ]
    }
   ],
   "source": [
    "!pip install pandas_profiling\n",
    "!pip install ydata-profiling\n",
    "!pip install sweetviz\n",
    "!pip install autoviz\n",
    "!pip install dtale\n",
    "!pip install boto3\n",
    "!pip install evidently\n",
    "!pip install --upgrade flask\n",
    "!pip install --upgrade watchdog\n",
    "!pip install PyQt6\n",
    "!pip install hyperopt\n",
    "!pip install mlflow"
   ]
  },
  {
   "cell_type": "code",
   "execution_count": 2,
   "id": "2fad5fd4",
   "metadata": {},
   "outputs": [],
   "source": [
    "import os\n",
    "import pandas as pd\n",
    "import numpy as np\n",
    "from datetime import datetime, timedelta\n",
    "from ydata_profiling import ProfileReport\n",
    "import sweetviz as sv\n",
    "import dtale\n",
    "import matplotlib.pyplot as plt\n",
    "from matplotlib.ticker import PercentFormatter\n",
    "import seaborn as sns\n",
    "from sklearn.feature_extraction import DictVectorizer\n",
    "from sklearn.metrics import auc, accuracy_score, precision_score, recall_score, f1_score, roc_auc_score, log_loss, average_precision_score\n",
    "from sklearn.metrics import classification_report,confusion_matrix\n",
    "from sklearn.linear_model import LogisticRegression\n",
    "from sklearn.tree import DecisionTreeClassifier\n",
    "from sklearn.ensemble import RandomForestClassifier\n",
    "import xgboost as xgb\n",
    "from hyperopt import fmin, tpe, hp, STATUS_OK, Trials\n",
    "from hyperopt.pyll import scope\n",
    "import mlflow\n",
    "from mlflow.entities import ViewType\n",
    "from mlflow.tracking import MlflowClient\n",
    "import pickle\n",
    "from flask import Flask, request, jsonify\n",
    "import requests\n",
    "from evidently.report import Report\n",
    "from evidently.metrics import DatasetSummaryMetric\n",
    "from evidently.metric_preset import DataDriftPreset, ClassificationPreset\n",
    "from evidently import ColumnMapping"
   ]
  },
  {
   "cell_type": "code",
   "execution_count": 3,
   "id": "a1a317f0",
   "metadata": {},
   "outputs": [],
   "source": [
    "# mlflow server --backend-store-uri sqlite:///backend.db --default-artifact-root=artifacts_local\n",
    "MLFLOW_TRACKING_URI = \"http://127.0.0.1:5000\"\n",
    "mlflow.set_tracking_uri(MLFLOW_TRACKING_URI)\n",
    "\n",
    "mlflow.set_experiment(\"flight_delay_local_test\")\n",
    "\n",
    "client = MlflowClient(MLFLOW_TRACKING_URI)"
   ]
  },
  {
   "cell_type": "markdown",
   "id": "733474f1",
   "metadata": {},
   "source": [
    "# Definitions\n",
    "\n",
    "Arrival delay equals the difference of the actual arrival time minus the scheduled arrival time.  A flight is considered on-time when it arrives less than 15 minutes after its published arrival time.\n",
    "\n"
   ]
  },
  {
   "cell_type": "markdown",
   "id": "7d5b31da",
   "metadata": {},
   "source": [
    "# Data Ingestion"
   ]
  },
  {
   "cell_type": "code",
   "execution_count": 4,
   "id": "58bb9eb8",
   "metadata": {},
   "outputs": [],
   "source": [
    "july_data_raw = pd.read_csv(\"../data/july_2023.csv\")\n",
    "august_data_raw = pd.read_csv(\"../data/august_2023.csv\")\n",
    "september_data_raw = pd.read_csv(\"../data/september_2023.csv\")\n",
    "weather_data = pd.read_csv(\"../data/weather_meteo_by_airport.csv\")\n",
    "op_unique_carrier_lookup = pd.read_csv(\"../data/L_UNIQUE_CARRIERS.csv\")"
   ]
  },
  {
   "cell_type": "code",
   "execution_count": 5,
   "id": "30193911",
   "metadata": {},
   "outputs": [
    {
     "name": "stderr",
     "output_type": "stream",
     "text": [
      "/var/folders/1x/_t_zsqxx3_bdlb0k32ryftbm0000gn/T/ipykernel_76984/1429820222.py:1: UserWarning:\n",
      "\n",
      "Could not infer format, so each element will be parsed individually, falling back to `dateutil`. To ensure parsing is consistent and as-expected, please specify a format.\n",
      "\n",
      "/var/folders/1x/_t_zsqxx3_bdlb0k32ryftbm0000gn/T/ipykernel_76984/1429820222.py:2: UserWarning:\n",
      "\n",
      "Could not infer format, so each element will be parsed individually, falling back to `dateutil`. To ensure parsing is consistent and as-expected, please specify a format.\n",
      "\n",
      "/var/folders/1x/_t_zsqxx3_bdlb0k32ryftbm0000gn/T/ipykernel_76984/1429820222.py:3: UserWarning:\n",
      "\n",
      "Could not infer format, so each element will be parsed individually, falling back to `dateutil`. To ensure parsing is consistent and as-expected, please specify a format.\n",
      "\n"
     ]
    }
   ],
   "source": [
    "july_data_raw[\"FL_DATE\"] = pd.to_datetime(july_data_raw[\"FL_DATE\"])\n",
    "august_data_raw[\"FL_DATE\"] = pd.to_datetime(august_data_raw[\"FL_DATE\"])\n",
    "september_data_raw[\"FL_DATE\"] = pd.to_datetime(september_data_raw[\"FL_DATE\"])\n",
    "weather_data[\"time\"] = pd.to_datetime(weather_data[\"time\"])"
   ]
  },
  {
   "cell_type": "code",
   "execution_count": 6,
   "id": "c84c46f3",
   "metadata": {},
   "outputs": [],
   "source": [
    "weather_data[\"join_date\"] = weather_data[\"time\"] - timedelta(days=1)"
   ]
  },
  {
   "cell_type": "code",
   "execution_count": 7,
   "id": "c8fb6098",
   "metadata": {},
   "outputs": [],
   "source": [
    "july_data_raw = (\n",
    "    july_data_raw\n",
    "    .merge(op_unique_carrier_lookup, left_on = [\"OP_UNIQUE_CARRIER\"], right_on=[\"Code\"])\n",
    "#     .merge(weather_data, left_on=[\"FL_DATE\", \"ORIGIN\"], right_on=[\"join_date\", \"airport_id\"])\n",
    "#     .drop([\"time\", \"join_date\", \"airport_id\"], axis=1)\n",
    "    .rename(columns = {\n",
    "        \"Description\":\"AIRLINE\",\n",
    "#         \"tavg\":\"ORIGIN_TAVG\",\n",
    "#         \"tmin\":\"ORIGIN_TMIN\",\n",
    "#         \"tmax\":\"ORIGIN_TMAX\",\n",
    "#         \"prcp\":\"ORIGIN_PRCP\",\n",
    "#         \"snow\":\"ORIGIN_SNOW\",\n",
    "#         \"wdir\":\"ORIGIN_WDIR\",\n",
    "#         \"wspd\":\"ORIGIN_WSPD\",\n",
    "#         \"pres\":\"ORIGIN_PRES\",\n",
    "        \n",
    "    })\n",
    "#     .merge(weather_data, left_on=[\"FL_DATE\", \"DEST\"], right_on=[\"join_date\", \"airport_id\"])\n",
    "#     .drop([\"time\", \"join_date\", \"airport_id\"], axis=1)\n",
    "#     .rename(columns = {\n",
    "#         \"tavg\":\"DEST_TAVG\",\n",
    "#         \"tmin\":\"DEST_TMIN\",\n",
    "#         \"tmax\":\"DEST_TMAX\",\n",
    "#         \"prcp\":\"DEST_PRCP\",\n",
    "#         \"snow\":\"DEST_SNOW\",\n",
    "#         \"wdir\":\"DEST_WDIR\",\n",
    "#         \"wspd\":\"DEST_WSPD\",\n",
    "#         \"pres\":\"DEST_PRES\",\n",
    "        \n",
    "#     })\n",
    ")"
   ]
  },
  {
   "cell_type": "code",
   "execution_count": 8,
   "id": "c77a0578",
   "metadata": {},
   "outputs": [],
   "source": [
    "august_data_raw = (\n",
    "    august_data_raw\n",
    "    .merge(op_unique_carrier_lookup, left_on = [\"OP_UNIQUE_CARRIER\"], right_on=[\"Code\"])\n",
    "#     .merge(weather_data, left_on=[\"FL_DATE\", \"ORIGIN\"], right_on=[\"join_date\", \"airport_id\"])\n",
    "#     .drop([\"time\", \"join_date\", \"airport_id\"], axis=1)\n",
    "    .rename(columns = {\n",
    "        \"Description\":\"AIRLINE\",\n",
    "#         \"tavg\":\"ORIGIN_TAVG\",\n",
    "#         \"tmin\":\"ORIGIN_TMIN\",\n",
    "#         \"tmax\":\"ORIGIN_TMAX\",\n",
    "#         \"prcp\":\"ORIGIN_PRCP\",\n",
    "#         \"snow\":\"ORIGIN_SNOW\",\n",
    "#         \"wdir\":\"ORIGIN_WDIR\",\n",
    "#         \"wspd\":\"ORIGIN_WSPD\",\n",
    "#         \"pres\":\"ORIGIN_PRES\",\n",
    "        \n",
    "    })\n",
    "#     .merge(weather_data, left_on=[\"FL_DATE\", \"DEST\"], right_on=[\"join_date\", \"airport_id\"])\n",
    "#     .drop([\"time\", \"join_date\", \"airport_id\"], axis=1)\n",
    "#     .rename(columns = {\n",
    "#         \"tavg\":\"DEST_TAVG\",\n",
    "#         \"tmin\":\"DEST_TMIN\",\n",
    "#         \"tmax\":\"DEST_TMAX\",\n",
    "#         \"prcp\":\"DEST_PRCP\",\n",
    "#         \"snow\":\"DEST_SNOW\",\n",
    "#         \"wdir\":\"DEST_WDIR\",\n",
    "#         \"wspd\":\"DEST_WSPD\",\n",
    "#         \"pres\":\"DEST_PRES\",\n",
    "        \n",
    "#     })\n",
    ")"
   ]
  },
  {
   "cell_type": "code",
   "execution_count": 9,
   "id": "d32c85a4",
   "metadata": {},
   "outputs": [],
   "source": [
    "september_data_raw = (\n",
    "    september_data_raw\n",
    "    .merge(op_unique_carrier_lookup, left_on = [\"OP_UNIQUE_CARRIER\"], right_on=[\"Code\"])\n",
    "#     .merge(weather_data, left_on=[\"FL_DATE\", \"ORIGIN\"], right_on=[\"join_date\", \"airport_id\"])\n",
    "#     .drop([\"time\", \"join_date\", \"airport_id\"], axis=1)\n",
    "    .rename(columns = {\n",
    "        \"Description\":\"AIRLINE\",\n",
    "#         \"tavg\":\"ORIGIN_TAVG\",\n",
    "#         \"tmin\":\"ORIGIN_TMIN\",\n",
    "#         \"tmax\":\"ORIGIN_TMAX\",\n",
    "#         \"prcp\":\"ORIGIN_PRCP\",\n",
    "#         \"snow\":\"ORIGIN_SNOW\",\n",
    "#         \"wdir\":\"ORIGIN_WDIR\",\n",
    "#         \"wspd\":\"ORIGIN_WSPD\",\n",
    "#         \"pres\":\"ORIGIN_PRES\",\n",
    "        \n",
    "    })\n",
    "#     .merge(weather_data, left_on=[\"FL_DATE\", \"DEST\"], right_on=[\"join_date\", \"airport_id\"])\n",
    "#     .drop([\"time\", \"join_date\", \"airport_id\"], axis=1)\n",
    "#     .rename(columns = {\n",
    "#         \"tavg\":\"DEST_TAVG\",\n",
    "#         \"tmin\":\"DEST_TMIN\",\n",
    "#         \"tmax\":\"DEST_TMAX\",\n",
    "#         \"prcp\":\"DEST_PRCP\",\n",
    "#         \"snow\":\"DEST_SNOW\",\n",
    "#         \"wdir\":\"DEST_WDIR\",\n",
    "#         \"wspd\":\"DEST_WSPD\",\n",
    "#         \"pres\":\"DEST_PRES\",\n",
    "        \n",
    "#     })\n",
    ")"
   ]
  },
  {
   "cell_type": "markdown",
   "id": "aee2653c",
   "metadata": {},
   "source": [
    "# Data Preprocessing\n",
    "\n",
    "We need to avoid data leakage by limiting the features we use to those that will be available to us before flight departure.\n",
    "\n",
    "Some new feature ideas:\n",
    "\n",
    "- Average delay for this route in the past month\n",
    "- Airline's on-time performance over the past week\n",
    "- Airport congestion statistics based on historical data\n",
    "- Weather forecast data for departure and arrival airports\n",
    "- Historical performance of the route\n",
    "- Historical perforance of the airline\n",
    "- Historical performance of the aircraft\n",
    "- Historical performance of airport\n",
    "- Analyze performance from city market to city market\n",
    "\n"
   ]
  },
  {
   "cell_type": "code",
   "execution_count": 10,
   "id": "9c6e2ca7",
   "metadata": {},
   "outputs": [],
   "source": [
    "cols_to_keep = [\n",
    "    \"DAY_OF_MONTH\",\n",
    "    \"DAY_OF_WEEK\",\n",
    "    \"AIRLINE\",\n",
    "    \"ORIGIN\",\n",
    "    \"DEST\",\n",
    "    \"CRS_DEP_TIME\",\n",
    "    \"CRS_ARR_TIME\",\n",
    "    \"CRS_ELAPSED_TIME\",\n",
    "    \"DISTANCE\",\n",
    "    \"ARR_DELAY\",\n",
    "    \"ARR_DEL15\"\n",
    "]"
   ]
  },
  {
   "cell_type": "code",
   "execution_count": 11,
   "id": "f704378f",
   "metadata": {},
   "outputs": [],
   "source": [
    "july_data = july_data_raw[cols_to_keep].dropna(subset=[\"ARR_DELAY\", \"ARR_DEL15\"])"
   ]
  },
  {
   "cell_type": "code",
   "execution_count": 12,
   "id": "e5425761",
   "metadata": {},
   "outputs": [],
   "source": [
    "august_data = august_data_raw[cols_to_keep].dropna(subset=[\"ARR_DELAY\", \"ARR_DEL15\"])"
   ]
  },
  {
   "cell_type": "code",
   "execution_count": 13,
   "id": "f76b8e1b",
   "metadata": {},
   "outputs": [],
   "source": [
    "september_data = september_data_raw[cols_to_keep].dropna(subset=[\"ARR_DELAY\", \"ARR_DEL15\"])"
   ]
  },
  {
   "cell_type": "code",
   "execution_count": 14,
   "id": "ced862ae",
   "metadata": {},
   "outputs": [
    {
     "name": "stderr",
     "output_type": "stream",
     "text": [
      "/Users/adelhassen/anaconda3/lib/python3.11/site-packages/ydata_profiling/profile_report.py:363: UserWarning:\n",
      "\n",
      "Try running command: 'pip install --upgrade Pillow' to avoid ValueError\n",
      "\n"
     ]
    },
    {
     "data": {
      "application/vnd.jupyter.widget-view+json": {
       "model_id": "02e6d94307244c0fac62b11efe397065",
       "version_major": 2,
       "version_minor": 0
      },
      "text/plain": [
       "Summarize dataset:   0%|          | 0/5 [00:00<?, ?it/s]"
      ]
     },
     "metadata": {},
     "output_type": "display_data"
    },
    {
     "data": {
      "application/vnd.jupyter.widget-view+json": {
       "model_id": "a185a4c8df8a42c295b4790a26014d5f",
       "version_major": 2,
       "version_minor": 0
      },
      "text/plain": [
       "Generate report structure:   0%|          | 0/1 [00:00<?, ?it/s]"
      ]
     },
     "metadata": {},
     "output_type": "display_data"
    },
    {
     "data": {
      "application/vnd.jupyter.widget-view+json": {
       "model_id": "c5d5b6e40cc041bca8fce58047ea689b",
       "version_major": 2,
       "version_minor": 0
      },
      "text/plain": [
       "Render HTML:   0%|          | 0/1 [00:00<?, ?it/s]"
      ]
     },
     "metadata": {},
     "output_type": "display_data"
    },
    {
     "data": {
      "application/vnd.jupyter.widget-view+json": {
       "model_id": "ea23fa78e59b4fdea63e418f908b52c2",
       "version_major": 2,
       "version_minor": 0
      },
      "text/plain": [
       "Export report to file:   0%|          | 0/1 [00:00<?, ?it/s]"
      ]
     },
     "metadata": {},
     "output_type": "display_data"
    }
   ],
   "source": [
    "profile = ProfileReport(july_data, title='Flight Data Auto EDA')\n",
    "profile.to_file('./reports/auto_eda_ydata.html')"
   ]
  },
  {
   "cell_type": "code",
   "execution_count": 15,
   "id": "61f01636",
   "metadata": {},
   "outputs": [
    {
     "data": {
      "application/vnd.jupyter.widget-view+json": {
       "model_id": "88bb4a77b57d49f4a3d34eb3c2676786",
       "version_major": 2,
       "version_minor": 0
      },
      "text/plain": [
       "                                             |      | [  0%]   00:00 -> (? left)"
      ]
     },
     "metadata": {},
     "output_type": "display_data"
    },
    {
     "name": "stdout",
     "output_type": "stream",
     "text": [
      "Report ./reports/auto_eda_sv.html was generated! NOTEBOOK/COLAB USERS: the web browser MAY not pop up, regardless, the report IS saved in your notebook/colab files.\n"
     ]
    }
   ],
   "source": [
    "report = sv.analyze(july_data, target_feat=\"ARR_DEL15\")\n",
    "report.show_html('./reports/auto_eda_sv.html')"
   ]
  },
  {
   "cell_type": "code",
   "execution_count": 17,
   "id": "bf77b6ba",
   "metadata": {},
   "outputs": [
    {
     "data": {
      "text/html": [
       "\n",
       "        <iframe\n",
       "            width=\"100%\"\n",
       "            height=\"475\"\n",
       "            src=\"http://MacBook-Pro:40000/dtale/iframe/2\"\n",
       "            frameborder=\"0\"\n",
       "            allowfullscreen\n",
       "            \n",
       "        ></iframe>\n",
       "        "
      ],
      "text/plain": [
       "<IPython.lib.display.IFrame at 0x14f3794d0>"
      ]
     },
     "metadata": {},
     "output_type": "display_data"
    },
    {
     "data": {
      "text/plain": []
     },
     "execution_count": 17,
     "metadata": {},
     "output_type": "execute_result"
    }
   ],
   "source": [
    "dtale.show(july_data)"
   ]
  },
  {
   "cell_type": "code",
   "execution_count": 18,
   "id": "3b03861a",
   "metadata": {},
   "outputs": [
    {
     "data": {
      "text/html": [
       "<div>\n",
       "<style scoped>\n",
       "    .dataframe tbody tr th:only-of-type {\n",
       "        vertical-align: middle;\n",
       "    }\n",
       "\n",
       "    .dataframe tbody tr th {\n",
       "        vertical-align: top;\n",
       "    }\n",
       "\n",
       "    .dataframe thead th {\n",
       "        text-align: right;\n",
       "    }\n",
       "</style>\n",
       "<table border=\"1\" class=\"dataframe\">\n",
       "  <thead>\n",
       "    <tr style=\"text-align: right;\">\n",
       "      <th></th>\n",
       "      <th>DAY_OF_MONTH</th>\n",
       "      <th>DAY_OF_WEEK</th>\n",
       "      <th>CRS_DEP_TIME</th>\n",
       "      <th>CRS_ARR_TIME</th>\n",
       "      <th>CRS_ELAPSED_TIME</th>\n",
       "      <th>DISTANCE</th>\n",
       "      <th>ARR_DELAY</th>\n",
       "      <th>ARR_DEL15</th>\n",
       "    </tr>\n",
       "  </thead>\n",
       "  <tbody>\n",
       "    <tr>\n",
       "      <th>count</th>\n",
       "      <td>585058.000000</td>\n",
       "      <td>585058.000000</td>\n",
       "      <td>585058.000000</td>\n",
       "      <td>585058.000000</td>\n",
       "      <td>585058.000000</td>\n",
       "      <td>585058.000000</td>\n",
       "      <td>585058.000000</td>\n",
       "      <td>585058.000000</td>\n",
       "    </tr>\n",
       "    <tr>\n",
       "      <th>mean</th>\n",
       "      <td>16.223844</td>\n",
       "      <td>4.034650</td>\n",
       "      <td>1333.655135</td>\n",
       "      <td>1471.944647</td>\n",
       "      <td>145.616392</td>\n",
       "      <td>846.286377</td>\n",
       "      <td>16.641825</td>\n",
       "      <td>0.285579</td>\n",
       "    </tr>\n",
       "    <tr>\n",
       "      <th>std</th>\n",
       "      <td>8.880154</td>\n",
       "      <td>2.072493</td>\n",
       "      <td>503.713292</td>\n",
       "      <td>537.722409</td>\n",
       "      <td>73.367314</td>\n",
       "      <td>610.844774</td>\n",
       "      <td>72.101824</td>\n",
       "      <td>0.451690</td>\n",
       "    </tr>\n",
       "    <tr>\n",
       "      <th>min</th>\n",
       "      <td>1.000000</td>\n",
       "      <td>1.000000</td>\n",
       "      <td>1.000000</td>\n",
       "      <td>1.000000</td>\n",
       "      <td>23.000000</td>\n",
       "      <td>31.000000</td>\n",
       "      <td>-86.000000</td>\n",
       "      <td>0.000000</td>\n",
       "    </tr>\n",
       "    <tr>\n",
       "      <th>25%</th>\n",
       "      <td>9.000000</td>\n",
       "      <td>2.000000</td>\n",
       "      <td>905.000000</td>\n",
       "      <td>1045.000000</td>\n",
       "      <td>91.000000</td>\n",
       "      <td>402.000000</td>\n",
       "      <td>-13.000000</td>\n",
       "      <td>0.000000</td>\n",
       "    </tr>\n",
       "    <tr>\n",
       "      <th>50%</th>\n",
       "      <td>16.000000</td>\n",
       "      <td>4.000000</td>\n",
       "      <td>1322.000000</td>\n",
       "      <td>1503.000000</td>\n",
       "      <td>128.000000</td>\n",
       "      <td>683.000000</td>\n",
       "      <td>-2.000000</td>\n",
       "      <td>0.000000</td>\n",
       "    </tr>\n",
       "    <tr>\n",
       "      <th>75%</th>\n",
       "      <td>24.000000</td>\n",
       "      <td>6.000000</td>\n",
       "      <td>1747.000000</td>\n",
       "      <td>1922.000000</td>\n",
       "      <td>175.000000</td>\n",
       "      <td>1076.000000</td>\n",
       "      <td>20.000000</td>\n",
       "      <td>1.000000</td>\n",
       "    </tr>\n",
       "    <tr>\n",
       "      <th>max</th>\n",
       "      <td>31.000000</td>\n",
       "      <td>7.000000</td>\n",
       "      <td>2359.000000</td>\n",
       "      <td>2359.000000</td>\n",
       "      <td>671.000000</td>\n",
       "      <td>5095.000000</td>\n",
       "      <td>3337.000000</td>\n",
       "      <td>1.000000</td>\n",
       "    </tr>\n",
       "  </tbody>\n",
       "</table>\n",
       "</div>"
      ],
      "text/plain": [
       "        DAY_OF_MONTH    DAY_OF_WEEK   CRS_DEP_TIME   CRS_ARR_TIME  \\\n",
       "count  585058.000000  585058.000000  585058.000000  585058.000000   \n",
       "mean       16.223844       4.034650    1333.655135    1471.944647   \n",
       "std         8.880154       2.072493     503.713292     537.722409   \n",
       "min         1.000000       1.000000       1.000000       1.000000   \n",
       "25%         9.000000       2.000000     905.000000    1045.000000   \n",
       "50%        16.000000       4.000000    1322.000000    1503.000000   \n",
       "75%        24.000000       6.000000    1747.000000    1922.000000   \n",
       "max        31.000000       7.000000    2359.000000    2359.000000   \n",
       "\n",
       "       CRS_ELAPSED_TIME       DISTANCE      ARR_DELAY      ARR_DEL15  \n",
       "count     585058.000000  585058.000000  585058.000000  585058.000000  \n",
       "mean         145.616392     846.286377      16.641825       0.285579  \n",
       "std           73.367314     610.844774      72.101824       0.451690  \n",
       "min           23.000000      31.000000     -86.000000       0.000000  \n",
       "25%           91.000000     402.000000     -13.000000       0.000000  \n",
       "50%          128.000000     683.000000      -2.000000       0.000000  \n",
       "75%          175.000000    1076.000000      20.000000       1.000000  \n",
       "max          671.000000    5095.000000    3337.000000       1.000000  "
      ]
     },
     "execution_count": 18,
     "metadata": {},
     "output_type": "execute_result"
    }
   ],
   "source": [
    "july_data.describe()"
   ]
  },
  {
   "cell_type": "code",
   "execution_count": 19,
   "id": "e7800932",
   "metadata": {},
   "outputs": [
    {
     "data": {
      "text/html": [
       "<div>\n",
       "<style scoped>\n",
       "    .dataframe tbody tr th:only-of-type {\n",
       "        vertical-align: middle;\n",
       "    }\n",
       "\n",
       "    .dataframe tbody tr th {\n",
       "        vertical-align: top;\n",
       "    }\n",
       "\n",
       "    .dataframe thead th {\n",
       "        text-align: right;\n",
       "    }\n",
       "</style>\n",
       "<table border=\"1\" class=\"dataframe\">\n",
       "  <thead>\n",
       "    <tr style=\"text-align: right;\">\n",
       "      <th></th>\n",
       "      <th>AIRLINE</th>\n",
       "      <th>ORIGIN</th>\n",
       "      <th>DEST</th>\n",
       "    </tr>\n",
       "  </thead>\n",
       "  <tbody>\n",
       "    <tr>\n",
       "      <th>count</th>\n",
       "      <td>585058</td>\n",
       "      <td>585058</td>\n",
       "      <td>585058</td>\n",
       "    </tr>\n",
       "    <tr>\n",
       "      <th>unique</th>\n",
       "      <td>15</td>\n",
       "      <td>336</td>\n",
       "      <td>336</td>\n",
       "    </tr>\n",
       "    <tr>\n",
       "      <th>top</th>\n",
       "      <td>Southwest Airlines Co.</td>\n",
       "      <td>ATL</td>\n",
       "      <td>ATL</td>\n",
       "    </tr>\n",
       "    <tr>\n",
       "      <th>freq</th>\n",
       "      <td>124840</td>\n",
       "      <td>29406</td>\n",
       "      <td>29363</td>\n",
       "    </tr>\n",
       "  </tbody>\n",
       "</table>\n",
       "</div>"
      ],
      "text/plain": [
       "                       AIRLINE  ORIGIN    DEST\n",
       "count                   585058  585058  585058\n",
       "unique                      15     336     336\n",
       "top     Southwest Airlines Co.     ATL     ATL\n",
       "freq                    124840   29406   29363"
      ]
     },
     "execution_count": 19,
     "metadata": {},
     "output_type": "execute_result"
    }
   ],
   "source": [
    "july_data.select_dtypes(include=\"object\").describe()"
   ]
  },
  {
   "cell_type": "code",
   "execution_count": 20,
   "id": "210987fa",
   "metadata": {},
   "outputs": [],
   "source": [
    "%matplotlib inline"
   ]
  },
  {
   "cell_type": "code",
   "execution_count": 21,
   "id": "047fe44f",
   "metadata": {},
   "outputs": [
    {
     "data": {
      "image/png": "[encoded data removed]",
      "text/plain": [
       "<Figure size 1000x600 with 1 Axes>"
      ]
     },
     "metadata": {},
     "output_type": "display_data"
    }
   ],
   "source": [
    "# Assuming you have your data in a DataFrame called df\n",
    "counts = july_data['ARR_DEL15'].value_counts().sort_index()\n",
    "\n",
    "# Create a new DataFrame for plotting\n",
    "plot_df = pd.DataFrame({'Status': ['On Time', 'Delay'], 'Count': counts.values})\n",
    "\n",
    "# Create the bar chart\n",
    "plt.figure(figsize=(10, 6))\n",
    "ax = sns.barplot(x='Status', y='Count', data=plot_df, hue='Status', palette=['#2ecc71', '#e74c3c'])\n",
    "\n",
    "# Customize the chart\n",
    "plt.title('Flight Arrival Delays', fontsize=16)\n",
    "plt.xlabel('Arrival Status', fontsize=12)\n",
    "plt.ylabel('Count', fontsize=12)\n",
    "\n",
    "# Add value labels on top of each bar\n",
    "for i, v in enumerate(plot_df['Count']):\n",
    "    ax.text(i, v, f'{v:,}', ha='center', va='bottom')\n",
    "\n",
    "# Add commas to y-axis labels for better readability\n",
    "ax.yaxis.set_major_formatter(plt.FuncFormatter(lambda x, p: format(int(x), ',')))\n",
    "\n",
    "plt.tight_layout()\n",
    "plt.show()"
   ]
  },
  {
   "cell_type": "code",
   "execution_count": 22,
   "id": "335ba941",
   "metadata": {},
   "outputs": [
    {
     "data": {
      "image/png": "[encoded data removed]",
      "text/plain": [
       "<Figure size 1000x600 with 1 Axes>"
      ]
     },
     "metadata": {},
     "output_type": "display_data"
    }
   ],
   "source": [
    "# However, in order to be smoothed, we need to define a bandwidth\n",
    "# which is a parameter that controls the smoothness of the density plot.\n",
    "# bw_method defines that\n",
    "plt.figure(figsize=(10, 6))\n",
    "\n",
    "ax = sns.kdeplot(july_data.query(\"ARR_DELAY < 100\")['ARR_DELAY'], fill=True, color=\"olive\", bw_method=0.01)\n",
    "\n",
    "plt.title('Arrival Delays Distribution', fontsize=16)\n",
    "plt.xlabel('Arrival Delay in Minutes', fontsize=12)\n",
    "\n",
    "plt.show()"
   ]
  },
  {
   "cell_type": "code",
   "execution_count": 23,
   "id": "c879d04a",
   "metadata": {},
   "outputs": [],
   "source": [
    "pcnt_delayed_per_airline = (\n",
    "    july_data\n",
    "    .groupby(\"AIRLINE\", as_index=False)\n",
    "    .agg(\n",
    "        PCNT_OF_DELAYS = (\"ARR_DEL15\", \"mean\"),\n",
    "    )\n",
    "    .sort_values(\"PCNT_OF_DELAYS\", ascending=False)\n",
    ")\n",
    "\n",
    "# pcnt_delayed_per_airline.assign(PCNT_OF_DELAYS = pcnt_delayed_per_airline.PCNT_OF_DELAYS*100)"
   ]
  },
  {
   "cell_type": "code",
   "execution_count": 24,
   "id": "86793245",
   "metadata": {
    "scrolled": false
   },
   "outputs": [
    {
     "data": {
      "image/png": "[encoded data removed]",
      "text/plain": [
       "<Figure size 1000x600 with 1 Axes>"
      ]
     },
     "metadata": {},
     "output_type": "display_data"
    }
   ],
   "source": [
    "# Create the bar chart\n",
    "plt.figure(figsize=(10, 6))\n",
    "sns.barplot(x='PCNT_OF_DELAYS', y='AIRLINE', data=pcnt_delayed_per_airline, hue=\"PCNT_OF_DELAYS\", palette='RdYlGn_r', legend=False)\n",
    "\n",
    "# Add title and labels\n",
    "plt.title('Percentage of Delays per Airline')\n",
    "plt.xlabel('Percentage of Delays')\n",
    "plt.ylabel('Airline')\n",
    "\n",
    "# Format the x-axis to include percentage sign\n",
    "ax = plt.gca()\n",
    "ax.xaxis.set_major_formatter(PercentFormatter(xmax=1))\n",
    "\n",
    "# Show the plot\n",
    "plt.show()"
   ]
  },
  {
   "cell_type": "code",
   "execution_count": 25,
   "id": "809bbc35",
   "metadata": {},
   "outputs": [],
   "source": [
    "pcnt_delayed_per_route = (\n",
    "    july_data\n",
    "    .assign(ROUTE = july_data.ORIGIN + \"_\" + july_data.DEST)\n",
    "    .groupby([\"ROUTE\"], as_index=False)\n",
    "    .agg(\n",
    "        PCNT_OF_DELAYS = (\"ARR_DEL15\", \"mean\"),\n",
    "        NUM_OF_FLIGHTS = (\"ARR_DEL15\", \"size\")\n",
    "    )\n",
    "    .sort_values(\"PCNT_OF_DELAYS\", ascending=False)\n",
    "    .query(\"NUM_OF_FLIGHTS > 30\")\n",
    "    .reset_index(drop=True)\n",
    "    .head(10)\n",
    ")"
   ]
  },
  {
   "cell_type": "code",
   "execution_count": 26,
   "id": "b28ddcae",
   "metadata": {},
   "outputs": [
    {
     "data": {
      "image/png": "[encoded data removed]",
      "text/plain": [
       "<Figure size 1000x600 with 1 Axes>"
      ]
     },
     "metadata": {},
     "output_type": "display_data"
    }
   ],
   "source": [
    "# Create the bar chart\n",
    "plt.figure(figsize=(10, 6))\n",
    "sns.barplot(x='PCNT_OF_DELAYS', y='ROUTE', data=pcnt_delayed_per_route, hue=\"PCNT_OF_DELAYS\", palette='Reds', legend=False)\n",
    "\n",
    "# Add title and labels\n",
    "plt.title('Top 10 Percentage of Delays per Flight Route (Min 30 Flights)')\n",
    "plt.xlabel('Percentage of Delays')\n",
    "plt.ylabel('Flight Route')\n",
    "\n",
    "# Format the x-axis to include percentage sign\n",
    "ax = plt.gca()\n",
    "ax.xaxis.set_major_formatter(PercentFormatter(xmax=1))\n",
    "\n",
    "# Show the plot\n",
    "plt.show()"
   ]
  },
  {
   "cell_type": "code",
   "execution_count": 27,
   "id": "49d67fea",
   "metadata": {},
   "outputs": [],
   "source": [
    "pcnt_delayed_per_doy = (\n",
    "    july_data\n",
    "    .groupby([\"DAY_OF_WEEK\"], as_index=False)\n",
    "    .agg(\n",
    "        PCNT_OF_DELAYS = (\"ARR_DEL15\", \"mean\"),\n",
    "        NUM_OF_FLIGHTS = (\"ARR_DEL15\", \"size\")\n",
    "    )\n",
    "    .sort_values(\"DAY_OF_WEEK\", ascending=True)\n",
    "    .reset_index(drop=True)\n",
    ")"
   ]
  },
  {
   "cell_type": "code",
   "execution_count": 28,
   "id": "cebf7e80",
   "metadata": {},
   "outputs": [],
   "source": [
    "(\n",
    "    pcnt_delayed_per_doy[\"DAY_OF_WEEK\"]\n",
    "    .replace(\n",
    "        {1:\"Monday\", 2:\"Tuesday\", 3:\"Wednesday\", 4:\"Thursday\", \n",
    "         5:\"Friday\", 6:\"Saturday\", 7:\"Sunday\"\n",
    "        }\n",
    "        , inplace=True\n",
    "    )\n",
    ")"
   ]
  },
  {
   "cell_type": "code",
   "execution_count": 29,
   "id": "a7713b66",
   "metadata": {},
   "outputs": [
    {
     "name": "stderr",
     "output_type": "stream",
     "text": [
      "2024-07-26 16:48:44,355 - INFO     - Using categorical units to plot a list of strings that are all parsable as floats or dates. If these strings should be plotted as numbers, cast to the appropriate data type before plotting.\n",
      "2024-07-26 16:48:44,360 - INFO     - Using categorical units to plot a list of strings that are all parsable as floats or dates. If these strings should be plotted as numbers, cast to the appropriate data type before plotting.\n"
     ]
    },
    {
     "data": {
      "image/png": "[encoded data removed]",
      "text/plain": [
       "<Figure size 1000x600 with 1 Axes>"
      ]
     },
     "metadata": {},
     "output_type": "display_data"
    }
   ],
   "source": [
    "# Create the bar chart\n",
    "plt.figure(figsize=(10, 6))\n",
    "sns.barplot(x='DAY_OF_WEEK', y='PCNT_OF_DELAYS', data=pcnt_delayed_per_doy, legend=False)\n",
    "\n",
    "# Add title and labels\n",
    "plt.title('Percentage of Delays per Day of Week')\n",
    "plt.xlabel('Day of Week')\n",
    "plt.ylabel('Percentage of Delays')\n",
    "\n",
    "# Format the x-axis to include percentage sign\n",
    "ax = plt.gca()\n",
    "ax.yaxis.set_major_formatter(PercentFormatter(xmax=1))"
   ]
  },
  {
   "cell_type": "code",
   "execution_count": 30,
   "id": "fcf87218",
   "metadata": {},
   "outputs": [
    {
     "data": {
      "image/png": "[encoded data removed]",
      "text/plain": [
       "<Figure size 640x480 with 1 Axes>"
      ]
     },
     "metadata": {},
     "output_type": "display_data"
    }
   ],
   "source": [
    "# Highly correlated so we need to drop one of them\n",
    "ax = sns.lineplot(data=july_data.query(\"ARR_DELAY < 100 and CRS_ELAPSED_TIME < 200\"), x=\"CRS_ELAPSED_TIME\", y=\"DISTANCE\", color=\"darkslategrey\")\n",
    "\n",
    "# Add title and labels\n",
    "plt.title('Scheduled Elapsed Time vs Distance')\n",
    "plt.xlabel('Scheduled Elapsed Time')\n",
    "plt.ylabel('Distance')\n",
    "\n",
    "plt.show()"
   ]
  },
  {
   "cell_type": "code",
   "execution_count": 31,
   "id": "3a1ce007",
   "metadata": {},
   "outputs": [
    {
     "data": {
      "image/png": "[encoded data removed]",
      "text/plain": [
       "<Figure size 1000x600 with 2 Axes>"
      ]
     },
     "metadata": {},
     "output_type": "display_data"
    }
   ],
   "source": [
    "# Plot the correlation matrix\n",
    "plt.figure(figsize=(10, 6))\n",
    "sns.heatmap(july_data.select_dtypes(include=[\"int64\", \"float64\"]).corr(), annot=True, cmap='coolwarm', vmin=-1, vmax=1)\n",
    "plt.title('Flight Data Correlation Matrix')\n",
    "plt.show()"
   ]
  },
  {
   "cell_type": "markdown",
   "id": "442838c6",
   "metadata": {},
   "source": [
    "# Feature Engineering"
   ]
  },
  {
   "cell_type": "code",
   "execution_count": 32,
   "id": "debbf460",
   "metadata": {},
   "outputs": [],
   "source": [
    "X_train = july_data.drop([\"ARR_DEL15\"], axis=1).copy()\n",
    "y_train = july_data['ARR_DEL15'].values\n",
    "\n",
    "X_val = august_data.drop([\"ARR_DEL15\"], axis=1).copy()\n",
    "y_val = august_data['ARR_DEL15'].values\n",
    "\n",
    "X_test = september_data.drop([\"ARR_DEL15\"], axis=1).copy()\n",
    "y_test = september_data['ARR_DEL15'].values"
   ]
  },
  {
   "cell_type": "code",
   "execution_count": 33,
   "id": "6985df5b",
   "metadata": {},
   "outputs": [],
   "source": [
    "X_train_copy = X_train.drop([\"DISTANCE\", \"ARR_DELAY\"], axis=1).copy()\n",
    "X_train_copy[\"DAY_OF_WEEK\"] = (\n",
    "    X_train[\"DAY_OF_WEEK\"]\n",
    "    .replace(\n",
    "        {1:\"Monday\", 2:\"Tuesday\", 3:\"Wednesday\", 4:\"Thursday\", \n",
    "         5:\"Friday\", 6:\"Saturday\", 7:\"Sunday\"\n",
    "        }\n",
    "    )\n",
    ")\n",
    "\n",
    "X_val_copy = X_val.drop([\"DISTANCE\", \"ARR_DELAY\"], axis=1).copy()\n",
    "X_val_copy[\"DAY_OF_WEEK\"] = (\n",
    "    X_val[\"DAY_OF_WEEK\"]\n",
    "    .replace(\n",
    "        {1:\"Monday\", 2:\"Tuesday\", 3:\"Wednesday\", 4:\"Thursday\", \n",
    "         5:\"Friday\", 6:\"Saturday\", 7:\"Sunday\"\n",
    "        }\n",
    "    )\n",
    ")\n",
    "\n",
    "X_test_copy = X_test.drop([\"DISTANCE\", \"ARR_DELAY\"], axis=1).copy()\n",
    "X_test_copy[\"DAY_OF_WEEK\"] = (\n",
    "    X_test[\"DAY_OF_WEEK\"]\n",
    "    .replace(\n",
    "        {1:\"Monday\", 2:\"Tuesday\", 3:\"Wednesday\", 4:\"Thursday\", \n",
    "         5:\"Friday\", 6:\"Saturday\", 7:\"Sunday\"\n",
    "        }\n",
    "    )\n",
    ")"
   ]
  },
  {
   "cell_type": "code",
   "execution_count": 34,
   "id": "22d76b69",
   "metadata": {},
   "outputs": [],
   "source": [
    "def time_to_minutes(int_time):\n",
    "    # Convert the integer to string to handle different lengths\n",
    "    str_time = str(int_time).zfill(4)  # Ensure it's at least 4 digits long\n",
    "    # Extract hours and minutes\n",
    "    hours = int(str_time[:-2])  # All but last two characters\n",
    "    minutes = int(str_time[-2:])  # Last two characters\n",
    "    \n",
    "    # Convert hour and minutes to total minutes of the day\n",
    "    total_minutes = hours * 60 + minutes\n",
    "    \n",
    "    return total_minutes"
   ]
  },
  {
   "cell_type": "code",
   "execution_count": 35,
   "id": "dc8ef1ab",
   "metadata": {},
   "outputs": [],
   "source": [
    "X_train[\"CRS_DEP_TIME_MINUTES\"] = X_train[\"CRS_DEP_TIME\"].apply(time_to_minutes)\n",
    "X_train[\"CRS_ARR_TIME_MINUTES\"] = X_train[\"CRS_ARR_TIME\"].apply(time_to_minutes)\n",
    "\n",
    "X_val[\"CRS_DEP_TIME_MINUTES\"] = X_val[\"CRS_DEP_TIME\"].apply(time_to_minutes)\n",
    "X_val[\"CRS_ARR_TIME_MINUTES\"] = X_val[\"CRS_ARR_TIME\"].apply(time_to_minutes)\n",
    "\n",
    "X_test[\"CRS_DEP_TIME_MINUTES\"] = X_test[\"CRS_DEP_TIME\"].apply(time_to_minutes)\n",
    "X_test[\"CRS_ARR_TIME_MINUTES\"] = X_test[\"CRS_ARR_TIME\"].apply(time_to_minutes)"
   ]
  },
  {
   "cell_type": "code",
   "execution_count": 36,
   "id": "477991a4",
   "metadata": {},
   "outputs": [],
   "source": [
    "# Define function to create cyclical features\n",
    "def create_cyclical_features(df: pd.DataFrame, column: str, max_val: int):\n",
    "    \n",
    "    df[f'{column}_SIN'] = np.sin(2 * np.pi * df[column] / max_val)\n",
    "    df[f'{column}_COS'] = np.cos(2 * np.pi * df[column] / max_val)\n",
    "    \n",
    "    return df"
   ]
  },
  {
   "cell_type": "code",
   "execution_count": 37,
   "id": "876978ef",
   "metadata": {},
   "outputs": [],
   "source": [
    "X_train = create_cyclical_features(X_train, \"DAY_OF_MONTH\", X_train[\"DAY_OF_MONTH\"].max())\n",
    "X_train = create_cyclical_features(X_train, \"DAY_OF_WEEK\", X_train[\"DAY_OF_WEEK\"].max())\n",
    "X_train = create_cyclical_features(X_train, \"CRS_DEP_TIME_MINUTES\", 1440)\n",
    "X_train = create_cyclical_features(X_train, \"CRS_ARR_TIME_MINUTES\", 1440)\n",
    "\n",
    "X_val = create_cyclical_features(X_val, \"DAY_OF_MONTH\", X_val[\"DAY_OF_MONTH\"].max())\n",
    "X_val = create_cyclical_features(X_val, \"DAY_OF_WEEK\", X_val[\"DAY_OF_WEEK\"].max())\n",
    "X_val = create_cyclical_features(X_val, \"CRS_DEP_TIME_MINUTES\", 1440)\n",
    "X_val = create_cyclical_features(X_val, \"CRS_ARR_TIME_MINUTES\", 1440)\n",
    "\n",
    "X_test = create_cyclical_features(X_test, \"DAY_OF_MONTH\", X_val[\"DAY_OF_MONTH\"].max())\n",
    "X_test = create_cyclical_features(X_test, \"DAY_OF_WEEK\", X_val[\"DAY_OF_WEEK\"].max())\n",
    "X_test = create_cyclical_features(X_test, \"CRS_DEP_TIME_MINUTES\", 1440)\n",
    "X_test = create_cyclical_features(X_test, \"CRS_ARR_TIME_MINUTES\", 1440)"
   ]
  },
  {
   "cell_type": "code",
   "execution_count": 38,
   "id": "881a81ef",
   "metadata": {},
   "outputs": [],
   "source": [
    "# Drop distance because that would be hard for someone to find\n",
    "# Drop ARR_DELAY because we will use ARR_DEL15 to create a categorical ML problem\n",
    "X_train.drop([\"DISTANCE\", \"ARR_DELAY\", \"DAY_OF_MONTH\", \"DAY_OF_WEEK\", \"CRS_DEP_TIME\", \"CRS_ARR_TIME\", \"CRS_DEP_TIME_MINUTES\", \"CRS_ARR_TIME_MINUTES\"], axis=1, inplace=True)\n",
    "X_val.drop([\"DISTANCE\", \"ARR_DELAY\", \"DAY_OF_MONTH\", \"DAY_OF_WEEK\", \"CRS_DEP_TIME\", \"CRS_ARR_TIME\", \"CRS_DEP_TIME_MINUTES\", \"CRS_ARR_TIME_MINUTES\"], axis=1, inplace=True)\n",
    "X_test.drop([\"DISTANCE\", \"ARR_DELAY\", \"DAY_OF_MONTH\", \"DAY_OF_WEEK\", \"CRS_DEP_TIME\", \"CRS_ARR_TIME\", \"CRS_DEP_TIME_MINUTES\", \"CRS_ARR_TIME_MINUTES\"], axis=1, inplace=True)"
   ]
  },
  {
   "cell_type": "code",
   "execution_count": 39,
   "id": "92383863",
   "metadata": {},
   "outputs": [],
   "source": [
    "X_train_flask = X_train.copy()"
   ]
  },
  {
   "cell_type": "code",
   "execution_count": 40,
   "id": "69ad9c81",
   "metadata": {},
   "outputs": [],
   "source": [
    "categorical = [\"AIRLINE\", \"ORIGIN\", \"DEST\"]\n",
    "numerical = ['CRS_ELAPSED_TIME', 'DAY_OF_MONTH_SIN', 'DAY_OF_MONTH_COS', 'DAY_OF_WEEK_SIN', 'DAY_OF_WEEK_COS',\n",
    "             'CRS_DEP_TIME_MINUTES_SIN', 'CRS_DEP_TIME_MINUTES_COS', 'CRS_ARR_TIME_MINUTES_SIN',\n",
    "             'CRS_ARR_TIME_MINUTES_COS'\n",
    "            ]\n",
    "\n",
    "dv = DictVectorizer()\n",
    "\n",
    "train_dicts = X_train[categorical + numerical].to_dict(orient='records')\n",
    "X_train = dv.fit_transform(train_dicts)\n",
    "\n",
    "val_dicts = X_val[categorical + numerical].to_dict(orient='records')\n",
    "X_val = dv.transform(val_dicts)\n",
    "\n",
    "test_dicts = X_test[categorical + numerical].to_dict(orient='records')\n",
    "X_test = dv.transform(test_dicts)"
   ]
  },
  {
   "cell_type": "code",
   "execution_count": 41,
   "id": "a4e6b7d7",
   "metadata": {},
   "outputs": [],
   "source": [
    "def fit_base_models(model_name, X_train, X_val, y_train, y_val, dv):\n",
    "    with mlflow.start_run():\n",
    "        \n",
    "        if not os.path.exists(\"../models\"):\n",
    "            os.makedirs(\"models\")\n",
    "        \n",
    "        mlflow.set_tag(\"model\", type(model_name()).__name__)\n",
    "        mlflow.set_tag(\"purpose\", \"train models\")\n",
    "        \n",
    "        model = model_name(random_state=42).fit(X_train, y_train)\n",
    "        y_pred = model.predict(X_val)\n",
    "        y_pred_proba = model.predict_proba(X_val)[:, 1]\n",
    "        \n",
    "        mlflow.log_params(model.get_params())\n",
    "        \n",
    "        mlflow.log_metric(\"accuracy\", accuracy_score(y_val, y_pred))\n",
    "        mlflow.log_metric(\"precision\", precision_score(y_val, y_pred))\n",
    "        mlflow.log_metric(\"recall\", recall_score(y_val, y_pred))\n",
    "        mlflow.log_metric(\"f1\", f1_score(y_val, y_pred))\n",
    "        mlflow.log_metric(\"roc_auc\", roc_auc_score(y_val, y_pred_proba))\n",
    "        mlflow.log_metric(\"auprc\", average_precision_score(y_val, y_pred_proba))\n",
    "        \n",
    "        mlflow.sklearn.log_model(model, artifact_path=\"models\")\n",
    "        \n",
    "        with open(\"../models/preprocessor.b\", \"wb\") as f_out:\n",
    "            pickle.dump(dv, f_out)\n",
    "        mlflow.log_artifact(\"../models/preprocessor.b\", artifact_path=\"preprocessor\")\n",
    "        \n",
    "        print(f\"Training for {type(model_name()).__name__} complete!\")\n",
    "        \n",
    "    "
   ]
  },
  {
   "cell_type": "code",
   "execution_count": null,
   "id": "2e2bac95",
   "metadata": {},
   "outputs": [],
   "source": [
    "fit_base_models(LogisticRegression, X_train, X_val, y_train, y_val, dv)\n",
    "fit_base_models(xgb.XGBClassifier, X_train, X_val, y_train, y_val, dv)"
   ]
  },
  {
   "cell_type": "markdown",
   "id": "48fe6e36",
   "metadata": {},
   "source": [
    "# Hyperparameter Tuning"
   ]
  },
  {
   "cell_type": "code",
   "execution_count": 42,
   "id": "fb046935",
   "metadata": {},
   "outputs": [],
   "source": [
    "train = xgb.DMatrix(X_train, label=y_train)\n",
    "valid = xgb.DMatrix(X_val, label=y_val)\n",
    "\n",
    "def tune_xgboost(train, valid, y_val, eval_metric, dv):\n",
    "    \n",
    "    def objective(params):\n",
    "        with mlflow.start_run():\n",
    "            mlflow.set_tag(\"model\", \"XGBClassifier\")\n",
    "            mlflow.set_tag(\"purpose\", \"Tune XGBClassifier\")\n",
    "            mlflow.set_tag(\"eval_metric\", eval_metric)\n",
    "\n",
    "            mlflow.log_params(params)\n",
    "\n",
    "            booster = xgb.train(\n",
    "                params=params,\n",
    "                dtrain=train,\n",
    "                num_boost_round=5,\n",
    "                evals=[(valid, 'validation')],\n",
    "                early_stopping_rounds=5\n",
    "            )\n",
    "\n",
    "            y_pred = booster.predict(valid)\n",
    "            y_pred_class = (y_pred >= 0.5).astype(int)\n",
    "\n",
    "            if eval_metric == \"logloss\":\n",
    "                metric = log_loss(y_val, y_pred)\n",
    "            # since value is positive and we want to minimize, make it negative\n",
    "            elif eval_metric == \"auc\":\n",
    "                metric = -roc_auc_score(y_val, y_pred)\n",
    "            # since value is positive and we want to minimize, make it negative\n",
    "            elif eval_metric == \"aucpr\":\n",
    "                metric = -average_precision_score(y_val, y_pred) \n",
    "\n",
    "\n",
    "            mlflow.log_metric(\"accuracy\", accuracy_score(y_val, y_pred_class))\n",
    "            mlflow.log_metric(\"precision\", precision_score(y_val, y_pred_class))\n",
    "            mlflow.log_metric(\"recall\", recall_score(y_val, y_pred_class))\n",
    "            mlflow.log_metric(\"f1\", f1_score(y_val, y_pred_class))\n",
    "            mlflow.log_metric(\"roc_auc\", roc_auc_score(y_val, y_pred))\n",
    "            mlflow.log_metric(\"auprc\", average_precision_score(y_val, y_pred))\n",
    "\n",
    "            mlflow.xgboost.log_model(booster, artifact_path=\"models\")\n",
    "\n",
    "            with open(\"../models/preprocessor.b\", \"wb\") as f_out:\n",
    "                pickle.dump(dv, f_out)\n",
    "            mlflow.log_artifact(\"../models/preprocessor.b\", artifact_path=\"preprocessor\")\n",
    "\n",
    "        return {'loss': metric, 'status': STATUS_OK}\n",
    "    \n",
    "    search_space = {\n",
    "        'max_depth': scope.int(hp.quniform('max_depth', 4, 10, 1)),\n",
    "        'learning_rate': hp.loguniform('learning_rate', -3, 0),\n",
    "        'reg_alpha': hp.loguniform('reg_alpha', -5, -1),\n",
    "        'reg_lambda': hp.loguniform('reg_lambda', -6, -1),\n",
    "        'min_child_weight': hp.loguniform('min_child_weight', -1, 3),\n",
    "        'objective': 'binary:logistic',\n",
    "        'eval_metric': eval_metric,\n",
    "        'seed': 42\n",
    "    }\n",
    "    \n",
    "    \n",
    "    \n",
    "    best_result = fmin(\n",
    "        fn=objective,\n",
    "        space=search_space,\n",
    "        algo=tpe.suggest,\n",
    "        max_evals=5,\n",
    "        trials=Trials()\n",
    "    )\n",
    "    \n",
    "    return"
   ]
  },
  {
   "cell_type": "code",
   "execution_count": null,
   "id": "f12c4973",
   "metadata": {
    "scrolled": true
   },
   "outputs": [],
   "source": [
    "tune_xgboost(train, valid, y_val, \"logloss\")\n",
    "tune_xgboost(train, valid, y_val, \"auc\")\n",
    "tune_xgboost(train, valid, y_val, \"aucpr\")"
   ]
  },
  {
   "cell_type": "markdown",
   "id": "b8df4f03",
   "metadata": {},
   "source": [
    "# Register Models"
   ]
  },
  {
   "cell_type": "code",
   "execution_count": 43,
   "id": "0f550ddc",
   "metadata": {},
   "outputs": [],
   "source": [
    "train = xgb.DMatrix(X_train, label=y_train)\n",
    "valid = xgb.DMatrix(X_val, label=y_val)\n",
    "test = xgb.DMatrix(X_test, label=y_test)"
   ]
  },
  {
   "cell_type": "code",
   "execution_count": 44,
   "id": "9caa7f0a",
   "metadata": {},
   "outputs": [],
   "source": [
    "def train_and_log_model(train, valid, test, dv, params):\n",
    "    with mlflow.start_run():\n",
    "        \n",
    "        mlflow.set_tag(\"model\", \"XGBClassifier\")\n",
    "        mlflow.set_tag(\"purpose\", \"Compare best models\")\n",
    "        mlflow.log_params(params)\n",
    "        \n",
    "        booster = xgb.train(\n",
    "                params=params,\n",
    "                dtrain=train,\n",
    "                num_boost_round=5,\n",
    "                evals=[(valid, 'validation')],\n",
    "                early_stopping_rounds=5\n",
    "            )\n",
    "\n",
    "\n",
    "        # Evaluate and log model on the validation set\n",
    "        y_pred_val = booster.predict(valid)\n",
    "        y_pred_val_class = (y_pred_val >= 0.5).astype(int)\n",
    "        \n",
    "        mlflow.log_metric(\"accuracy\", accuracy_score(y_val, y_pred_val_class))\n",
    "        mlflow.log_metric(\"precision\", precision_score(y_val, y_pred_val_class))\n",
    "        mlflow.log_metric(\"recall\", recall_score(y_val, y_pred_val_class))\n",
    "        mlflow.log_metric(\"f1\", f1_score(y_val, y_pred_val_class))\n",
    "        mlflow.log_metric(\"roc_auc\", roc_auc_score(y_val, y_pred_val))\n",
    "        mlflow.log_metric(\"auprc\", average_precision_score(y_val, y_pred_val))\n",
    "        \n",
    "        # Evaluate and log model on test set\n",
    "        y_pred_test = booster.predict(test)\n",
    "        y_pred_test_class = (y_pred_test >= 0.5).astype(int)\n",
    "        \n",
    "        mlflow.log_metric(\"test_accuracy\", accuracy_score(y_test, y_pred_test_class))\n",
    "        mlflow.log_metric(\"test_precision\", precision_score(y_test, y_pred_test_class))\n",
    "        mlflow.log_metric(\"test_recall\", recall_score(y_test, y_pred_test_class))\n",
    "        mlflow.log_metric(\"test_f1\", f1_score(y_test, y_pred_test_class))\n",
    "        mlflow.log_metric(\"test_roc_auc\", roc_auc_score(y_test, y_pred_test))\n",
    "        mlflow.log_metric(\"test_auprc\", average_precision_score(y_test, y_pred_test))\n",
    "        \n",
    "        mlflow.xgboost.log_model(booster, artifact_path=\"models\")\n",
    "\n",
    "        with open(\"../models/preprocessor.b\", \"wb\") as f_out:\n",
    "            pickle.dump(dv, f_out)\n",
    "        mlflow.log_artifact(\"../models/preprocessor.b\", artifact_path=\"preprocessor\")\n"
   ]
  },
  {
   "cell_type": "code",
   "execution_count": 45,
   "id": "8e8f2063",
   "metadata": {},
   "outputs": [
    {
     "data": {
      "text/plain": [
       "<Experiment: artifact_location='/Users/adelhassen/data_science/flight_delays/artifacts_local/2', creation_time=1721699404035, experiment_id='2', last_update_time=1721699404035, lifecycle_stage='active', name='xgboost_best_models_test', tags={}>"
      ]
     },
     "execution_count": 45,
     "metadata": {},
     "output_type": "execute_result"
    }
   ],
   "source": [
    "mlflow.set_experiment(\"xgboost_best_models_test\")"
   ]
  },
  {
   "cell_type": "code",
   "execution_count": 46,
   "id": "6dd2229a",
   "metadata": {},
   "outputs": [],
   "source": [
    "def run_register_model(train, valid, test, dv, top_n: 5):\n",
    "\n",
    "    client = MlflowClient()\n",
    "\n",
    "    # Retrieve the top_n model runs and log the models\n",
    "    experiment = client.get_experiment_by_name(\"flight_delay_local_test\")\n",
    "    runs = client.search_runs(\n",
    "        experiment_ids=experiment.experiment_id,\n",
    "        filter_string=\"tags.purpose='Tune XGBClassifier'\",\n",
    "        run_view_type=ViewType.ACTIVE_ONLY,\n",
    "        max_results=top_n,\n",
    "        order_by=[\"metrics.auprc DESC\"]\n",
    "    )\n",
    "    for run in runs:\n",
    "        train_and_log_model(train, valid, test, dv, params=run.data.params)\n",
    "\n",
    "    # Select the model with the lowest test RMSE\n",
    "    experiment = client.get_experiment_by_name(\"xgboost_best_models_test\")\n",
    "    best_run = client.search_runs(\n",
    "        experiment_ids=experiment.experiment_id,\n",
    "        run_view_type=ViewType.ACTIVE_ONLY,\n",
    "        max_results=top_n,\n",
    "        order_by=[\"metrics.test_auprc DESC\"]\n",
    "    )[0]\n",
    "\n",
    "    # Register the best model\n",
    "    run_id = best_run.info.run_id\n",
    "    model_uri = f\"runs:/{run_id}/model\"\n",
    "    mlflow.register_model(model_uri, name=\"xgboost_best_model_test\")"
   ]
  },
  {
   "cell_type": "code",
   "execution_count": null,
   "id": "23fbd01d",
   "metadata": {},
   "outputs": [],
   "source": [
    "run_register_model(train, valid, test, dv, top_n=5)"
   ]
  },
  {
   "cell_type": "code",
   "execution_count": 47,
   "id": "bddc40e5",
   "metadata": {},
   "outputs": [],
   "source": [
    "registered_model = client.search_registered_models(filter_string=\"name='xgboost_best_model_test'\")\n",
    "registered_model_run_id = registered_model[0].latest_versions[0].run_id\n",
    "\n",
    "logged_model = f'runs:/{registered_model_run_id}/models'\n",
    "\n",
    "# Load model as a XGBoost\n",
    "model_to_deploy = mlflow.xgboost.load_model(logged_model)\n",
    "\n",
    "path_to_dv = client.download_artifacts(run_id=registered_model_run_id, path='preprocessor/preprocessor.b')\n",
    "with open(path_to_dv, 'rb') as f_out:\n",
    "    dv = pickle.load(f_out)\n"
   ]
  },
  {
   "cell_type": "markdown",
   "id": "0aea7761",
   "metadata": {},
   "source": [
    "# Deploy on Web App"
   ]
  },
  {
   "cell_type": "code",
   "execution_count": 48,
   "id": "1db3eac5",
   "metadata": {},
   "outputs": [],
   "source": [
    "registered_model = client.search_registered_models(filter_string=\"name='xgboost_best_model_test'\")\n",
    "registered_model_run_id = registered_model[0].latest_versions[0].run_id\n",
    "\n",
    "logged_model = f'runs:/{registered_model_run_id}/models'\n",
    "\n",
    "# Load model as a XGBoost\n",
    "model_to_deploy = mlflow.xgboost.load_model(logged_model)\n",
    "\n",
    "path_to_dv = client.download_artifacts(run_id=registered_model_run_id, path='preprocessor/preprocessor.b')\n",
    "with open(path_to_dv, 'rb') as f_out:\n",
    "    dv = pickle.load(f_out)"
   ]
  },
  {
   "cell_type": "code",
   "execution_count": 49,
   "id": "741d0b9b",
   "metadata": {},
   "outputs": [],
   "source": [
    "def predict(features):\n",
    "    X_transformed = dv.transform(features)\n",
    "    X = xgb.DMatrix(X_transformed)\n",
    "    pred = model_to_deploy.predict(X)[0]\n",
    "    pred_class = (pred >= 0.5).astype(int)\n",
    "    \n",
    "    if pred_class:\n",
    "        return_string = f\"Delayed! There is a {pred:.2%} chance your flight will be delayed.\"\n",
    "    else:\n",
    "        return_string = f\"On time! There is a {pred:.2%} chance your flight will be delayed.\"\n",
    "    return return_string"
   ]
  },
  {
   "cell_type": "code",
   "execution_count": 50,
   "id": "2c942b4d",
   "metadata": {},
   "outputs": [],
   "source": [
    "app = Flask('flight-delay-prediction')\n",
    "\n",
    "@app.route('/predict', methods=['POST'])\n",
    "def predict_endpoint():\n",
    "    flight_features = request.get_json()\n",
    "    pred = predict(flight_features)\n",
    "\n",
    "    result = {\n",
    "        'delay': pred\n",
    "    }\n",
    "\n",
    "    return jsonify(result)"
   ]
  },
  {
   "cell_type": "code",
   "execution_count": null,
   "id": "f7b54b1e",
   "metadata": {},
   "outputs": [],
   "source": [
    "# Run in a py script, jupyter notebook and flask conflict\n",
    "# app.run(debug=True, host='0.0.0.0', port=9696)"
   ]
  },
  {
   "cell_type": "code",
   "execution_count": 51,
   "id": "71c14545",
   "metadata": {},
   "outputs": [
    {
     "data": {
      "text/plain": [
       "{'AIRLINE': 'Endeavor Air Inc.',\n",
       " 'ORIGIN': 'AUS',\n",
       " 'DEST': 'RDU',\n",
       " 'CRS_ELAPSED_TIME': 185.0,\n",
       " 'DAY_OF_MONTH_SIN': 0.20129852008866006,\n",
       " 'DAY_OF_MONTH_COS': 0.9795299412524945,\n",
       " 'DAY_OF_WEEK_SIN': -0.7818314824680299,\n",
       " 'DAY_OF_WEEK_COS': 0.6234898018587334,\n",
       " 'CRS_DEP_TIME_MINUTES_SIN': 0.4733196671848435,\n",
       " 'CRS_DEP_TIME_MINUTES_COS': -0.8808907382053855,\n",
       " 'CRS_ARR_TIME_MINUTES_SIN': -0.5446390350150271,\n",
       " 'CRS_ARR_TIME_MINUTES_COS': -0.838670567945424}"
      ]
     },
     "execution_count": 51,
     "metadata": {},
     "output_type": "execute_result"
    }
   ],
   "source": [
    "X_train_flask.loc[0].to_dict()"
   ]
  },
  {
   "cell_type": "code",
   "execution_count": 52,
   "id": "c0eb70e1",
   "metadata": {},
   "outputs": [
    {
     "data": {
      "text/plain": [
       "'Delayed! There is a 78.88% chance your flight will be delayed.'"
      ]
     },
     "execution_count": 52,
     "metadata": {},
     "output_type": "execute_result"
    }
   ],
   "source": [
    "predict(X_train_flask.loc[129794].to_dict())"
   ]
  },
  {
   "cell_type": "markdown",
   "id": "40f0d429",
   "metadata": {},
   "source": [
    "# Monitoring"
   ]
  },
  {
   "cell_type": "code",
   "execution_count": 54,
   "id": "7bd750fc",
   "metadata": {},
   "outputs": [],
   "source": [
    "registered_model = client.search_registered_models(filter_string=\"name='xgboost_best_model_test'\")\n",
    "registered_model_run_id = registered_model[0].latest_versions[0].run_id\n",
    "\n",
    "logged_model = f'runs:/{registered_model_run_id}/models'\n",
    "\n",
    "# Load model as a XGBoost\n",
    "model_to_deploy = mlflow.xgboost.load_model(logged_model)"
   ]
  },
  {
   "cell_type": "code",
   "execution_count": 56,
   "id": "dee635fa",
   "metadata": {},
   "outputs": [],
   "source": [
    "preds_train = model_to_deploy.predict(train)\n",
    "preds_train2 = 1 - preds_train \n",
    "preds_class_train = (preds_train >= 0.5).astype(int)\n",
    "\n",
    "preds_val = model_to_deploy.predict(valid)\n",
    "preds_val2 = 1 - preds_val\n",
    "preds_class_val = (preds_val >= 0.5).astype(int)\n",
    "\n",
    "X_train_copy[\"Arrival Delay\"] = np.where(y_train == 0, \"On Time\", \"Delay\")\n",
    "X_val_copy[\"Arrival Delay\"] = np.where(y_val == 0, \"On Time\", \"Delay\")\n",
    "\n",
    "X_train_copy[\"Delay\"] = preds_train\n",
    "X_val_copy[\"Delay\"] = preds_val\n",
    "X_train_copy[\"On Time\"] = preds_train2\n",
    "X_val_copy[\"On Time\"] = preds_val2"
   ]
  },
  {
   "cell_type": "code",
   "execution_count": 58,
   "id": "ae8c6c21",
   "metadata": {},
   "outputs": [],
   "source": [
    "# categorical = [\"AIRLINE\", \"ORIGIN\", \"DEST\"]\n",
    "# numerical = ['CRS_ELAPSED_TIME', 'DAY_OF_MONTH_SIN', 'DAY_OF_MONTH_COS', 'DAY_OF_WEEK_SIN', 'DAY_OF_WEEK_COS',\n",
    "#              'CRS_DEP_TIME_MINUTES_SIN', 'CRS_DEP_TIME_MINUTES_COS', 'CRS_ARR_TIME_MINUTES_SIN',\n",
    "#              'CRS_ARR_TIME_MINUTES_COS'\n",
    "#             ]\n",
    "\n",
    "\n",
    "categorical = [\"AIRLINE\", \"ORIGIN\", \"DEST\", \"DAY_OF_MONTH\", \"DAY_OF_WEEK\"]\n",
    "numerical = [\"CRS_DEP_TIME\", \"CRS_ARR_TIME\", \"CRS_ELAPSED_TIME\"]\n",
    "\n",
    "column_mapping = ColumnMapping()\n",
    "\n",
    "column_mapping.target = 'Arrival Delay'\n",
    "column_mapping.prediction = ['Delay', 'On Time']\n",
    "column_mapping.pos_label = 'Delay'\n",
    "column_mapping.numerical_features = numerical\n",
    "column_mapping.categorical_features = categorical\n",
    "\n",
    "classification_performance_report = Report(metrics=[\n",
    "    ClassificationPreset(),\n",
    "    DataDriftPreset(),\n",
    "])\n",
    "\n",
    "classification_performance_report.run(reference_data=X_train_copy, current_data=X_val_copy, column_mapping=column_mapping)\n",
    "\n",
    "classification_performance_report.save_html(\"../reports/Monitoring_Report.html\")"
   ]
  },
  {
   "cell_type": "markdown",
   "id": "e3014cfc",
   "metadata": {},
   "source": [
    "# Appendix\n"
   ]
  },
  {
   "cell_type": "code",
   "execution_count": null,
   "id": "87867cdd",
   "metadata": {},
   "outputs": [],
   "source": [
    "# Decision Tree Classifier\n",
    "dt_classifier = DecisionTreeClassifier(random_state=42)\n",
    "dt_classifier.fit(X_train, y_train)\n",
    "dt_predictions = dt_classifier.predict(X_val)\n",
    "print(\"Decision Tree Classifier Accuracy:\", accuracy_score(y_val, dt_predictions))\n",
    "print(\"Decision Tree Classification Report:\\n\", classification_report(y_val, dt_predictions))"
   ]
  },
  {
   "cell_type": "code",
   "execution_count": null,
   "id": "07c0641f",
   "metadata": {},
   "outputs": [],
   "source": [
    "# Random Forest Classifier\n",
    "rf_classifier = RandomForestClassifier(random_state=42, n_estimators=10)\n",
    "rf_classifier.fit(X_train, y_train)\n",
    "rf_predictions = rf_classifier.predict(X_val)\n",
    "print(\"Random Forest Classifier Accuracy:\", accuracy_score(y_val, rf_predictions))\n",
    "print(\"Random Forest Classification Report:\\n\", classification_report(y_val, rf_predictions))"
   ]
  },
  {
   "cell_type": "code",
   "execution_count": null,
   "id": "0a8324fd",
   "metadata": {},
   "outputs": [],
   "source": [
    "# XGBoost Classifier\n",
    "xgb_classifier = xgb.XGBClassifier(use_label_encoder=False, eval_metric='logloss', random_state=42)\n",
    "xgb_classifier.fit(X_train, y_train)\n",
    "xgb_predictions = xgb_classifier.predict(X_val)\n",
    "print(\"XGBoost Classifier Accuracy:\", accuracy_score(y_val, xgb_predictions))\n",
    "print(\"XGBoost Classification Report:\\n\", classification_report(y_val, xgb_predictions))"
   ]
  },
  {
   "cell_type": "code",
   "execution_count": null,
   "id": "84438b5f",
   "metadata": {},
   "outputs": [],
   "source": [
    "roc_auc_score(y_val, xgb_predictions)"
   ]
  },
  {
   "cell_type": "code",
   "execution_count": null,
   "id": "54d2a9d6",
   "metadata": {},
   "outputs": [],
   "source": [
    "def transition_model(client):\n",
    "    \n",
    "    \n",
    "    # Retrieve the new model with the lowest test RMSE\n",
    "    experiment = client.get_experiment_by_name(\"xgboost_best_models_test\")\n",
    "    best_run = client.search_runs(\n",
    "        experiment_ids=experiment.experiment_id,\n",
    "        run_view_type=ViewType.ACTIVE_ONLY,\n",
    "        max_results=1,\n",
    "        order_by=[\"metrics.test_auprc ASC\"]\n",
    "    )[0]\n",
    "\n",
    "    run_id = best_run.info.run_id\n",
    "    model_uri = f\"runs:/{run_id}/model\"\n",
    "    \n",
    "    registered_model = client.search_registered_models(filter_string=\"name='xgboost_best_model_test'\")\n",
    "    production_run_id = [model.run_id for model in registered_model[0].latest_versions if model.current_stage == 'Production']\n",
    "\n",
    "    if production_run_id:\n",
    "        # Get AUPRC for production model and new model\n",
    "        auprc_production = client.get_run(production_run_id[0]).data.metrics['test_auprc']\n",
    "        \n",
    "        auprc_new_model = client.get_run(run_id).data.metrics['test_auprc']\n",
    "        \n",
    "        if auprc_new_model > auprc_production:\n",
    "            client.transition_model_version_stage(\n",
    "                name='flight-delay-classifier',\n",
    "                version=model_version,\n",
    "                stage=new_stage,\n",
    "                archive_existing_versions=False\n",
    "            )\n",
    "            \n",
    "    "
   ]
  },
  {
   "cell_type": "code",
   "execution_count": null,
   "id": "79707232",
   "metadata": {},
   "outputs": [],
   "source": [
    "def create_time_chunks(df: pd.DataFrame, time_column: str, new_column: str):\n",
    "    # Define conditions and choices for np.select\n",
    "    conditions = [\n",
    "        df[time_column].between(500, 1159),\n",
    "        df[time_column].between(1200, 1659),\n",
    "        df[time_column].between(1700, 2059)\n",
    "    ]\n",
    "    choices = ['morning', 'afternoon', 'evening']\n",
    "\n",
    "    # Apply np.select\n",
    "    df[new_column] = np.select(conditions, choices, default='night')\n",
    "    return df\n",
    "\n",
    "X_train = create_time_chunks(X_train, \"CRS_DEP_TIME\", \"CRS_DEP_BLOCK\")\n",
    "X_train = create_time_chunks(X_train, \"CRS_ARR_TIME\", \"CRS_ARR_BLOCK\")"
   ]
  }
 ],
 "metadata": {
  "kernelspec": {
   "display_name": "flight_delay_venv",
   "language": "python",
   "name": "flight_delay_venv"
  },
  "language_info": {
   "codemirror_mode": {
    "name": "ipython",
    "version": 3
   },
   "file_extension": ".py",
   "mimetype": "text/x-python",
   "name": "python",
   "nbconvert_exporter": "python",
   "pygments_lexer": "ipython3",
   "version": "3.11.5"
  }
 },
 "nbformat": 4,
 "nbformat_minor": 5
}
